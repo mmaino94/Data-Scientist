{
 "cells": [
  {
   "cell_type": "code",
   "execution_count": 94,
   "id": "11b763bd",
   "metadata": {},
   "outputs": [],
   "source": [
    "import pandas as pd\n",
    "import datetime as dt\n",
    "import matplotlib.pyplot as plt\n",
    "from datetime import datetime, date\n",
    "import numpy as np"
   ]
  },
  {
   "cell_type": "code",
   "execution_count": 2,
   "id": "990bdc67",
   "metadata": {},
   "outputs": [],
   "source": [
    "xls = pd.ExcelFile(\"KPMG_VI_New_raw_data_update_final.xlsx\")"
   ]
  },
  {
   "cell_type": "code",
   "execution_count": 3,
   "id": "1946f13b",
   "metadata": {},
   "outputs": [],
   "source": [
    "df1 = pd.read_excel(xls,\"Transactions\")"
   ]
  },
  {
   "cell_type": "code",
   "execution_count": 4,
   "id": "4c57c857",
   "metadata": {},
   "outputs": [],
   "source": [
    "new_header_df1 = df1.iloc[0] #grab the first row for the header"
   ]
  },
  {
   "cell_type": "code",
   "execution_count": 5,
   "id": "171969a2",
   "metadata": {},
   "outputs": [],
   "source": [
    "df1 = df1[1:] #take the data less the header row\n",
    "df1.columns = new_header_df1"
   ]
  },
  {
   "cell_type": "code",
   "execution_count": 6,
   "id": "2e1aef37",
   "metadata": {},
   "outputs": [],
   "source": [
    "#NO HAY QUE USARLO PERO LO DEJO POR SI SE USA EN OTRO TASK\n",
    "df2 = pd.read_excel(xls,\"NewCustomerList\")\n"
   ]
  },
  {
   "cell_type": "code",
   "execution_count": 7,
   "id": "2830a24c",
   "metadata": {},
   "outputs": [],
   "source": [
    "df2 = df2.drop(columns=[\"Unnamed: 16\",\"Unnamed: 17\",\"Unnamed: 18\",\"Unnamed: 19\",\"Unnamed: 20\"],axis=1)"
   ]
  },
  {
   "cell_type": "code",
   "execution_count": 8,
   "id": "e16c8dd3",
   "metadata": {},
   "outputs": [],
   "source": [
    "new_header_df2 = df2.iloc[0] #grab the first row for the header\n"
   ]
  },
  {
   "cell_type": "code",
   "execution_count": 9,
   "id": "89926bfc",
   "metadata": {},
   "outputs": [],
   "source": [
    "df2 = df2[1:] #take the data less the header row\n",
    "df2.columns = new_header_df2"
   ]
  },
  {
   "cell_type": "code",
   "execution_count": 10,
   "id": "b75712fc",
   "metadata": {},
   "outputs": [],
   "source": [
    "df3 = pd.read_excel(xls,\"CustomerDemographic\")"
   ]
  },
  {
   "cell_type": "code",
   "execution_count": 11,
   "id": "655fdf83",
   "metadata": {},
   "outputs": [],
   "source": [
    "new_header_df3 = df3.iloc[0] #grab the first row for the header"
   ]
  },
  {
   "cell_type": "code",
   "execution_count": 12,
   "id": "8e17657a",
   "metadata": {},
   "outputs": [],
   "source": [
    "df3 = df3[1:] #take the data less the header row\n",
    "df3.columns = new_header_df3"
   ]
  },
  {
   "cell_type": "code",
   "execution_count": 13,
   "id": "14ad62d8",
   "metadata": {},
   "outputs": [],
   "source": [
    "df4 = pd.read_excel(xls,\"CustomerAddress\")"
   ]
  },
  {
   "cell_type": "code",
   "execution_count": 14,
   "id": "5020f3a9",
   "metadata": {},
   "outputs": [],
   "source": [
    "new_header_df4 = df4.iloc[0] #grab the first row for the header\n"
   ]
  },
  {
   "cell_type": "code",
   "execution_count": 15,
   "id": "06f5f35b",
   "metadata": {},
   "outputs": [],
   "source": [
    "df4 = df4[1:] #take the data less the header row\n",
    "df4.columns = new_header_df4"
   ]
  },
  {
   "cell_type": "code",
   "execution_count": 16,
   "id": "e8af862b",
   "metadata": {},
   "outputs": [
    {
     "data": {
      "text/html": [
       "<div>\n",
       "<style scoped>\n",
       "    .dataframe tbody tr th:only-of-type {\n",
       "        vertical-align: middle;\n",
       "    }\n",
       "\n",
       "    .dataframe tbody tr th {\n",
       "        vertical-align: top;\n",
       "    }\n",
       "\n",
       "    .dataframe thead th {\n",
       "        text-align: right;\n",
       "    }\n",
       "</style>\n",
       "<table border=\"1\" class=\"dataframe\">\n",
       "  <thead>\n",
       "    <tr style=\"text-align: right;\">\n",
       "      <th></th>\n",
       "      <th>transaction_id</th>\n",
       "      <th>product_id</th>\n",
       "      <th>customer_id</th>\n",
       "      <th>transaction_date</th>\n",
       "      <th>online_order</th>\n",
       "      <th>order_status</th>\n",
       "      <th>brand</th>\n",
       "      <th>product_line</th>\n",
       "      <th>product_class</th>\n",
       "      <th>product_size</th>\n",
       "      <th>list_price</th>\n",
       "      <th>standard_cost</th>\n",
       "      <th>product_first_sold_date</th>\n",
       "    </tr>\n",
       "  </thead>\n",
       "  <tbody>\n",
       "    <tr>\n",
       "      <th>1</th>\n",
       "      <td>1</td>\n",
       "      <td>2</td>\n",
       "      <td>2950</td>\n",
       "      <td>2017-02-25 00:00:00</td>\n",
       "      <td>False</td>\n",
       "      <td>Approved</td>\n",
       "      <td>Solex</td>\n",
       "      <td>Standard</td>\n",
       "      <td>medium</td>\n",
       "      <td>medium</td>\n",
       "      <td>71.49</td>\n",
       "      <td>53.62</td>\n",
       "      <td>41245</td>\n",
       "    </tr>\n",
       "    <tr>\n",
       "      <th>2</th>\n",
       "      <td>2</td>\n",
       "      <td>3</td>\n",
       "      <td>3120</td>\n",
       "      <td>2017-05-21 00:00:00</td>\n",
       "      <td>True</td>\n",
       "      <td>Approved</td>\n",
       "      <td>Trek Bicycles</td>\n",
       "      <td>Standard</td>\n",
       "      <td>medium</td>\n",
       "      <td>large</td>\n",
       "      <td>2091.47</td>\n",
       "      <td>388.92</td>\n",
       "      <td>41701</td>\n",
       "    </tr>\n",
       "    <tr>\n",
       "      <th>3</th>\n",
       "      <td>3</td>\n",
       "      <td>37</td>\n",
       "      <td>402</td>\n",
       "      <td>2017-10-16 00:00:00</td>\n",
       "      <td>False</td>\n",
       "      <td>Approved</td>\n",
       "      <td>OHM Cycles</td>\n",
       "      <td>Standard</td>\n",
       "      <td>low</td>\n",
       "      <td>medium</td>\n",
       "      <td>1793.43</td>\n",
       "      <td>248.82</td>\n",
       "      <td>36361</td>\n",
       "    </tr>\n",
       "    <tr>\n",
       "      <th>4</th>\n",
       "      <td>4</td>\n",
       "      <td>88</td>\n",
       "      <td>3135</td>\n",
       "      <td>2017-08-31 00:00:00</td>\n",
       "      <td>False</td>\n",
       "      <td>Approved</td>\n",
       "      <td>Norco Bicycles</td>\n",
       "      <td>Standard</td>\n",
       "      <td>medium</td>\n",
       "      <td>medium</td>\n",
       "      <td>1198.46</td>\n",
       "      <td>381.1</td>\n",
       "      <td>36145</td>\n",
       "    </tr>\n",
       "    <tr>\n",
       "      <th>5</th>\n",
       "      <td>5</td>\n",
       "      <td>78</td>\n",
       "      <td>787</td>\n",
       "      <td>2017-10-01 00:00:00</td>\n",
       "      <td>True</td>\n",
       "      <td>Approved</td>\n",
       "      <td>Giant Bicycles</td>\n",
       "      <td>Standard</td>\n",
       "      <td>medium</td>\n",
       "      <td>large</td>\n",
       "      <td>1765.3</td>\n",
       "      <td>709.48</td>\n",
       "      <td>42226</td>\n",
       "    </tr>\n",
       "    <tr>\n",
       "      <th>...</th>\n",
       "      <td>...</td>\n",
       "      <td>...</td>\n",
       "      <td>...</td>\n",
       "      <td>...</td>\n",
       "      <td>...</td>\n",
       "      <td>...</td>\n",
       "      <td>...</td>\n",
       "      <td>...</td>\n",
       "      <td>...</td>\n",
       "      <td>...</td>\n",
       "      <td>...</td>\n",
       "      <td>...</td>\n",
       "      <td>...</td>\n",
       "    </tr>\n",
       "    <tr>\n",
       "      <th>19996</th>\n",
       "      <td>19996</td>\n",
       "      <td>51</td>\n",
       "      <td>1018</td>\n",
       "      <td>2017-06-24 00:00:00</td>\n",
       "      <td>True</td>\n",
       "      <td>Approved</td>\n",
       "      <td>OHM Cycles</td>\n",
       "      <td>Standard</td>\n",
       "      <td>high</td>\n",
       "      <td>medium</td>\n",
       "      <td>2005.66</td>\n",
       "      <td>1203.4</td>\n",
       "      <td>37823</td>\n",
       "    </tr>\n",
       "    <tr>\n",
       "      <th>19997</th>\n",
       "      <td>19997</td>\n",
       "      <td>41</td>\n",
       "      <td>127</td>\n",
       "      <td>2017-11-09 00:00:00</td>\n",
       "      <td>True</td>\n",
       "      <td>Approved</td>\n",
       "      <td>Solex</td>\n",
       "      <td>Road</td>\n",
       "      <td>medium</td>\n",
       "      <td>medium</td>\n",
       "      <td>416.98</td>\n",
       "      <td>312.74</td>\n",
       "      <td>35560</td>\n",
       "    </tr>\n",
       "    <tr>\n",
       "      <th>19998</th>\n",
       "      <td>19998</td>\n",
       "      <td>87</td>\n",
       "      <td>2284</td>\n",
       "      <td>2017-04-14 00:00:00</td>\n",
       "      <td>True</td>\n",
       "      <td>Approved</td>\n",
       "      <td>OHM Cycles</td>\n",
       "      <td>Standard</td>\n",
       "      <td>medium</td>\n",
       "      <td>medium</td>\n",
       "      <td>1636.9</td>\n",
       "      <td>44.71</td>\n",
       "      <td>40410</td>\n",
       "    </tr>\n",
       "    <tr>\n",
       "      <th>19999</th>\n",
       "      <td>19999</td>\n",
       "      <td>6</td>\n",
       "      <td>2764</td>\n",
       "      <td>2017-07-03 00:00:00</td>\n",
       "      <td>False</td>\n",
       "      <td>Approved</td>\n",
       "      <td>OHM Cycles</td>\n",
       "      <td>Standard</td>\n",
       "      <td>high</td>\n",
       "      <td>medium</td>\n",
       "      <td>227.88</td>\n",
       "      <td>136.73</td>\n",
       "      <td>38216</td>\n",
       "    </tr>\n",
       "    <tr>\n",
       "      <th>20000</th>\n",
       "      <td>20000</td>\n",
       "      <td>11</td>\n",
       "      <td>1144</td>\n",
       "      <td>2017-09-22 00:00:00</td>\n",
       "      <td>True</td>\n",
       "      <td>Approved</td>\n",
       "      <td>Trek Bicycles</td>\n",
       "      <td>Standard</td>\n",
       "      <td>medium</td>\n",
       "      <td>small</td>\n",
       "      <td>1775.81</td>\n",
       "      <td>1580.47</td>\n",
       "      <td>36334</td>\n",
       "    </tr>\n",
       "  </tbody>\n",
       "</table>\n",
       "<p>20000 rows × 13 columns</p>\n",
       "</div>"
      ],
      "text/plain": [
       "0     transaction_id product_id customer_id     transaction_date online_order  \\\n",
       "1                  1          2        2950  2017-02-25 00:00:00        False   \n",
       "2                  2          3        3120  2017-05-21 00:00:00         True   \n",
       "3                  3         37         402  2017-10-16 00:00:00        False   \n",
       "4                  4         88        3135  2017-08-31 00:00:00        False   \n",
       "5                  5         78         787  2017-10-01 00:00:00         True   \n",
       "...              ...        ...         ...                  ...          ...   \n",
       "19996          19996         51        1018  2017-06-24 00:00:00         True   \n",
       "19997          19997         41         127  2017-11-09 00:00:00         True   \n",
       "19998          19998         87        2284  2017-04-14 00:00:00         True   \n",
       "19999          19999          6        2764  2017-07-03 00:00:00        False   \n",
       "20000          20000         11        1144  2017-09-22 00:00:00         True   \n",
       "\n",
       "0     order_status           brand product_line product_class product_size  \\\n",
       "1         Approved           Solex     Standard        medium       medium   \n",
       "2         Approved   Trek Bicycles     Standard        medium        large   \n",
       "3         Approved      OHM Cycles     Standard           low       medium   \n",
       "4         Approved  Norco Bicycles     Standard        medium       medium   \n",
       "5         Approved  Giant Bicycles     Standard        medium        large   \n",
       "...            ...             ...          ...           ...          ...   \n",
       "19996     Approved      OHM Cycles     Standard          high       medium   \n",
       "19997     Approved           Solex         Road        medium       medium   \n",
       "19998     Approved      OHM Cycles     Standard        medium       medium   \n",
       "19999     Approved      OHM Cycles     Standard          high       medium   \n",
       "20000     Approved   Trek Bicycles     Standard        medium        small   \n",
       "\n",
       "0     list_price standard_cost product_first_sold_date  \n",
       "1          71.49         53.62                   41245  \n",
       "2        2091.47        388.92                   41701  \n",
       "3        1793.43        248.82                   36361  \n",
       "4        1198.46         381.1                   36145  \n",
       "5         1765.3        709.48                   42226  \n",
       "...          ...           ...                     ...  \n",
       "19996    2005.66        1203.4                   37823  \n",
       "19997     416.98        312.74                   35560  \n",
       "19998     1636.9         44.71                   40410  \n",
       "19999     227.88        136.73                   38216  \n",
       "20000    1775.81       1580.47                   36334  \n",
       "\n",
       "[20000 rows x 13 columns]"
      ]
     },
     "execution_count": 16,
     "metadata": {},
     "output_type": "execute_result"
    }
   ],
   "source": [
    "df1"
   ]
  },
  {
   "cell_type": "code",
   "execution_count": 17,
   "id": "0608fe69",
   "metadata": {},
   "outputs": [
    {
     "data": {
      "text/plain": [
       "Index(['transaction_id', 'product_id', 'customer_id', 'transaction_date',\n",
       "       'online_order', 'order_status', 'brand', 'product_line',\n",
       "       'product_class', 'product_size', 'list_price', 'standard_cost',\n",
       "       'product_first_sold_date'],\n",
       "      dtype='object', name=0)"
      ]
     },
     "execution_count": 17,
     "metadata": {},
     "output_type": "execute_result"
    }
   ],
   "source": [
    "df1.columns"
   ]
  },
  {
   "cell_type": "code",
   "execution_count": 18,
   "id": "5d419495",
   "metadata": {},
   "outputs": [
    {
     "data": {
      "text/html": [
       "<div>\n",
       "<style scoped>\n",
       "    .dataframe tbody tr th:only-of-type {\n",
       "        vertical-align: middle;\n",
       "    }\n",
       "\n",
       "    .dataframe tbody tr th {\n",
       "        vertical-align: top;\n",
       "    }\n",
       "\n",
       "    .dataframe thead th {\n",
       "        text-align: right;\n",
       "    }\n",
       "</style>\n",
       "<table border=\"1\" class=\"dataframe\">\n",
       "  <thead>\n",
       "    <tr style=\"text-align: right;\">\n",
       "      <th></th>\n",
       "      <th>first_name</th>\n",
       "      <th>last_name</th>\n",
       "      <th>gender</th>\n",
       "      <th>past_3_years_bike_related_purchases</th>\n",
       "      <th>DOB</th>\n",
       "      <th>job_title</th>\n",
       "      <th>job_industry_category</th>\n",
       "      <th>wealth_segment</th>\n",
       "      <th>deceased_indicator</th>\n",
       "      <th>owns_car</th>\n",
       "      <th>tenure</th>\n",
       "      <th>address</th>\n",
       "      <th>postcode</th>\n",
       "      <th>state</th>\n",
       "      <th>country</th>\n",
       "      <th>property_valuation</th>\n",
       "      <th>Rank</th>\n",
       "      <th>Value</th>\n",
       "    </tr>\n",
       "  </thead>\n",
       "  <tbody>\n",
       "    <tr>\n",
       "      <th>1</th>\n",
       "      <td>Chickie</td>\n",
       "      <td>Brister</td>\n",
       "      <td>Male</td>\n",
       "      <td>86</td>\n",
       "      <td>1957-07-12</td>\n",
       "      <td>General Manager</td>\n",
       "      <td>Manufacturing</td>\n",
       "      <td>Mass Customer</td>\n",
       "      <td>N</td>\n",
       "      <td>Yes</td>\n",
       "      <td>14</td>\n",
       "      <td>45 Shopko Center</td>\n",
       "      <td>4500</td>\n",
       "      <td>QLD</td>\n",
       "      <td>Australia</td>\n",
       "      <td>6</td>\n",
       "      <td>1</td>\n",
       "      <td>1.71875</td>\n",
       "    </tr>\n",
       "    <tr>\n",
       "      <th>2</th>\n",
       "      <td>Morly</td>\n",
       "      <td>Genery</td>\n",
       "      <td>Male</td>\n",
       "      <td>69</td>\n",
       "      <td>1970-03-22</td>\n",
       "      <td>Structural Engineer</td>\n",
       "      <td>Property</td>\n",
       "      <td>Mass Customer</td>\n",
       "      <td>N</td>\n",
       "      <td>No</td>\n",
       "      <td>16</td>\n",
       "      <td>14 Mccormick Park</td>\n",
       "      <td>2113</td>\n",
       "      <td>NSW</td>\n",
       "      <td>Australia</td>\n",
       "      <td>11</td>\n",
       "      <td>1</td>\n",
       "      <td>1.71875</td>\n",
       "    </tr>\n",
       "    <tr>\n",
       "      <th>3</th>\n",
       "      <td>Ardelis</td>\n",
       "      <td>Forrester</td>\n",
       "      <td>Female</td>\n",
       "      <td>10</td>\n",
       "      <td>1974-08-28 00:00:00</td>\n",
       "      <td>Senior Cost Accountant</td>\n",
       "      <td>Financial Services</td>\n",
       "      <td>Affluent Customer</td>\n",
       "      <td>N</td>\n",
       "      <td>No</td>\n",
       "      <td>10</td>\n",
       "      <td>5 Colorado Crossing</td>\n",
       "      <td>3505</td>\n",
       "      <td>VIC</td>\n",
       "      <td>Australia</td>\n",
       "      <td>5</td>\n",
       "      <td>1</td>\n",
       "      <td>1.71875</td>\n",
       "    </tr>\n",
       "    <tr>\n",
       "      <th>4</th>\n",
       "      <td>Lucine</td>\n",
       "      <td>Stutt</td>\n",
       "      <td>Female</td>\n",
       "      <td>64</td>\n",
       "      <td>1979-01-28</td>\n",
       "      <td>Account Representative III</td>\n",
       "      <td>Manufacturing</td>\n",
       "      <td>Affluent Customer</td>\n",
       "      <td>N</td>\n",
       "      <td>Yes</td>\n",
       "      <td>5</td>\n",
       "      <td>207 Annamark Plaza</td>\n",
       "      <td>4814</td>\n",
       "      <td>QLD</td>\n",
       "      <td>Australia</td>\n",
       "      <td>1</td>\n",
       "      <td>4</td>\n",
       "      <td>1.703125</td>\n",
       "    </tr>\n",
       "    <tr>\n",
       "      <th>5</th>\n",
       "      <td>Melinda</td>\n",
       "      <td>Hadlee</td>\n",
       "      <td>Female</td>\n",
       "      <td>34</td>\n",
       "      <td>1965-09-21</td>\n",
       "      <td>Financial Analyst</td>\n",
       "      <td>Financial Services</td>\n",
       "      <td>Affluent Customer</td>\n",
       "      <td>N</td>\n",
       "      <td>No</td>\n",
       "      <td>19</td>\n",
       "      <td>115 Montana Place</td>\n",
       "      <td>2093</td>\n",
       "      <td>NSW</td>\n",
       "      <td>Australia</td>\n",
       "      <td>9</td>\n",
       "      <td>4</td>\n",
       "      <td>1.703125</td>\n",
       "    </tr>\n",
       "  </tbody>\n",
       "</table>\n",
       "</div>"
      ],
      "text/plain": [
       "0 first_name  last_name  gender past_3_years_bike_related_purchases  \\\n",
       "1    Chickie    Brister    Male                                  86   \n",
       "2      Morly     Genery    Male                                  69   \n",
       "3    Ardelis  Forrester  Female                                  10   \n",
       "4     Lucine      Stutt  Female                                  64   \n",
       "5    Melinda     Hadlee  Female                                  34   \n",
       "\n",
       "0                  DOB                   job_title job_industry_category  \\\n",
       "1           1957-07-12             General Manager         Manufacturing   \n",
       "2           1970-03-22         Structural Engineer              Property   \n",
       "3  1974-08-28 00:00:00      Senior Cost Accountant    Financial Services   \n",
       "4           1979-01-28  Account Representative III         Manufacturing   \n",
       "5           1965-09-21           Financial Analyst    Financial Services   \n",
       "\n",
       "0     wealth_segment deceased_indicator owns_car tenure              address  \\\n",
       "1      Mass Customer                  N      Yes     14     45 Shopko Center   \n",
       "2      Mass Customer                  N       No     16    14 Mccormick Park   \n",
       "3  Affluent Customer                  N       No     10  5 Colorado Crossing   \n",
       "4  Affluent Customer                  N      Yes      5   207 Annamark Plaza   \n",
       "5  Affluent Customer                  N       No     19    115 Montana Place   \n",
       "\n",
       "0 postcode state    country property_valuation Rank     Value  \n",
       "1     4500   QLD  Australia                  6    1   1.71875  \n",
       "2     2113   NSW  Australia                 11    1   1.71875  \n",
       "3     3505   VIC  Australia                  5    1   1.71875  \n",
       "4     4814   QLD  Australia                  1    4  1.703125  \n",
       "5     2093   NSW  Australia                  9    4  1.703125  "
      ]
     },
     "execution_count": 18,
     "metadata": {},
     "output_type": "execute_result"
    }
   ],
   "source": [
    "df2.head()"
   ]
  },
  {
   "cell_type": "code",
   "execution_count": 19,
   "id": "8451c1f0",
   "metadata": {},
   "outputs": [
    {
     "data": {
      "text/plain": [
       "Index(['first_name', 'last_name', 'gender',\n",
       "       'past_3_years_bike_related_purchases', 'DOB', 'job_title',\n",
       "       'job_industry_category', 'wealth_segment', 'deceased_indicator',\n",
       "       'owns_car', 'tenure', 'address', 'postcode', 'state', 'country',\n",
       "       'property_valuation', 'Rank', 'Value'],\n",
       "      dtype='object', name=0)"
      ]
     },
     "execution_count": 19,
     "metadata": {},
     "output_type": "execute_result"
    }
   ],
   "source": [
    "df2.columns"
   ]
  },
  {
   "cell_type": "code",
   "execution_count": null,
   "id": "9186145c",
   "metadata": {},
   "outputs": [],
   "source": []
  },
  {
   "cell_type": "code",
   "execution_count": 20,
   "id": "14fa0875",
   "metadata": {},
   "outputs": [
    {
     "data": {
      "text/html": [
       "<div>\n",
       "<style scoped>\n",
       "    .dataframe tbody tr th:only-of-type {\n",
       "        vertical-align: middle;\n",
       "    }\n",
       "\n",
       "    .dataframe tbody tr th {\n",
       "        vertical-align: top;\n",
       "    }\n",
       "\n",
       "    .dataframe thead th {\n",
       "        text-align: right;\n",
       "    }\n",
       "</style>\n",
       "<table border=\"1\" class=\"dataframe\">\n",
       "  <thead>\n",
       "    <tr style=\"text-align: right;\">\n",
       "      <th></th>\n",
       "      <th>customer_id</th>\n",
       "      <th>first_name</th>\n",
       "      <th>last_name</th>\n",
       "      <th>gender</th>\n",
       "      <th>past_3_years_bike_related_purchases</th>\n",
       "      <th>DOB</th>\n",
       "      <th>job_title</th>\n",
       "      <th>job_industry_category</th>\n",
       "      <th>wealth_segment</th>\n",
       "      <th>deceased_indicator</th>\n",
       "      <th>default</th>\n",
       "      <th>owns_car</th>\n",
       "      <th>tenure</th>\n",
       "    </tr>\n",
       "  </thead>\n",
       "  <tbody>\n",
       "    <tr>\n",
       "      <th>1</th>\n",
       "      <td>1</td>\n",
       "      <td>Laraine</td>\n",
       "      <td>Medendorp</td>\n",
       "      <td>F</td>\n",
       "      <td>93</td>\n",
       "      <td>1953-10-12 00:00:00</td>\n",
       "      <td>Executive Secretary</td>\n",
       "      <td>Health</td>\n",
       "      <td>Mass Customer</td>\n",
       "      <td>N</td>\n",
       "      <td>\"'</td>\n",
       "      <td>Yes</td>\n",
       "      <td>11</td>\n",
       "    </tr>\n",
       "    <tr>\n",
       "      <th>2</th>\n",
       "      <td>2</td>\n",
       "      <td>Eli</td>\n",
       "      <td>Bockman</td>\n",
       "      <td>Male</td>\n",
       "      <td>81</td>\n",
       "      <td>1980-12-16 00:00:00</td>\n",
       "      <td>Administrative Officer</td>\n",
       "      <td>Financial Services</td>\n",
       "      <td>Mass Customer</td>\n",
       "      <td>N</td>\n",
       "      <td>&lt;script&gt;alert('hi')&lt;/script&gt;</td>\n",
       "      <td>Yes</td>\n",
       "      <td>16</td>\n",
       "    </tr>\n",
       "    <tr>\n",
       "      <th>3</th>\n",
       "      <td>3</td>\n",
       "      <td>Arlin</td>\n",
       "      <td>Dearle</td>\n",
       "      <td>Male</td>\n",
       "      <td>61</td>\n",
       "      <td>1954-01-20 00:00:00</td>\n",
       "      <td>Recruiting Manager</td>\n",
       "      <td>Property</td>\n",
       "      <td>Mass Customer</td>\n",
       "      <td>N</td>\n",
       "      <td>2018-02-01 00:00:00</td>\n",
       "      <td>Yes</td>\n",
       "      <td>15</td>\n",
       "    </tr>\n",
       "    <tr>\n",
       "      <th>4</th>\n",
       "      <td>4</td>\n",
       "      <td>Talbot</td>\n",
       "      <td>NaN</td>\n",
       "      <td>Male</td>\n",
       "      <td>33</td>\n",
       "      <td>1961-10-03 00:00:00</td>\n",
       "      <td>NaN</td>\n",
       "      <td>IT</td>\n",
       "      <td>Mass Customer</td>\n",
       "      <td>N</td>\n",
       "      <td>() { _; } &gt;_[$($())] { touch /tmp/blns.shellsh...</td>\n",
       "      <td>No</td>\n",
       "      <td>7</td>\n",
       "    </tr>\n",
       "    <tr>\n",
       "      <th>5</th>\n",
       "      <td>5</td>\n",
       "      <td>Sheila-kathryn</td>\n",
       "      <td>Calton</td>\n",
       "      <td>Female</td>\n",
       "      <td>56</td>\n",
       "      <td>1977-05-13 00:00:00</td>\n",
       "      <td>Senior Editor</td>\n",
       "      <td>NaN</td>\n",
       "      <td>Affluent Customer</td>\n",
       "      <td>N</td>\n",
       "      <td>NIL</td>\n",
       "      <td>Yes</td>\n",
       "      <td>8</td>\n",
       "    </tr>\n",
       "    <tr>\n",
       "      <th>...</th>\n",
       "      <td>...</td>\n",
       "      <td>...</td>\n",
       "      <td>...</td>\n",
       "      <td>...</td>\n",
       "      <td>...</td>\n",
       "      <td>...</td>\n",
       "      <td>...</td>\n",
       "      <td>...</td>\n",
       "      <td>...</td>\n",
       "      <td>...</td>\n",
       "      <td>...</td>\n",
       "      <td>...</td>\n",
       "      <td>...</td>\n",
       "    </tr>\n",
       "    <tr>\n",
       "      <th>3996</th>\n",
       "      <td>3996</td>\n",
       "      <td>Rosalia</td>\n",
       "      <td>Halgarth</td>\n",
       "      <td>Female</td>\n",
       "      <td>8</td>\n",
       "      <td>1975-08-09 00:00:00</td>\n",
       "      <td>VP Product Management</td>\n",
       "      <td>Health</td>\n",
       "      <td>Mass Customer</td>\n",
       "      <td>N</td>\n",
       "      <td>-100</td>\n",
       "      <td>No</td>\n",
       "      <td>19</td>\n",
       "    </tr>\n",
       "    <tr>\n",
       "      <th>3997</th>\n",
       "      <td>3997</td>\n",
       "      <td>Blanch</td>\n",
       "      <td>Nisuis</td>\n",
       "      <td>Female</td>\n",
       "      <td>87</td>\n",
       "      <td>2001-07-13 00:00:00</td>\n",
       "      <td>Statistician II</td>\n",
       "      <td>Manufacturing</td>\n",
       "      <td>High Net Worth</td>\n",
       "      <td>N</td>\n",
       "      <td>â¦testâ§</td>\n",
       "      <td>Yes</td>\n",
       "      <td>1</td>\n",
       "    </tr>\n",
       "    <tr>\n",
       "      <th>3998</th>\n",
       "      <td>3998</td>\n",
       "      <td>Sarene</td>\n",
       "      <td>Woolley</td>\n",
       "      <td>U</td>\n",
       "      <td>60</td>\n",
       "      <td>NaN</td>\n",
       "      <td>Assistant Manager</td>\n",
       "      <td>IT</td>\n",
       "      <td>High Net Worth</td>\n",
       "      <td>N</td>\n",
       "      <td>NaN</td>\n",
       "      <td>No</td>\n",
       "      <td>NaN</td>\n",
       "    </tr>\n",
       "    <tr>\n",
       "      <th>3999</th>\n",
       "      <td>3999</td>\n",
       "      <td>Patrizius</td>\n",
       "      <td>NaN</td>\n",
       "      <td>Male</td>\n",
       "      <td>11</td>\n",
       "      <td>1973-10-24 00:00:00</td>\n",
       "      <td>NaN</td>\n",
       "      <td>Manufacturing</td>\n",
       "      <td>Affluent Customer</td>\n",
       "      <td>N</td>\n",
       "      <td>Â¡â¢Â£Â¢âÂ§Â¶â¢ÂªÂºââ</td>\n",
       "      <td>Yes</td>\n",
       "      <td>10</td>\n",
       "    </tr>\n",
       "    <tr>\n",
       "      <th>4000</th>\n",
       "      <td>4000</td>\n",
       "      <td>Kippy</td>\n",
       "      <td>Oldland</td>\n",
       "      <td>Male</td>\n",
       "      <td>76</td>\n",
       "      <td>1991-11-05 00:00:00</td>\n",
       "      <td>Software Engineer IV</td>\n",
       "      <td>NaN</td>\n",
       "      <td>Affluent Customer</td>\n",
       "      <td>N</td>\n",
       "      <td>0/0</td>\n",
       "      <td>No</td>\n",
       "      <td>11</td>\n",
       "    </tr>\n",
       "  </tbody>\n",
       "</table>\n",
       "<p>4000 rows × 13 columns</p>\n",
       "</div>"
      ],
      "text/plain": [
       "0    customer_id      first_name  last_name  gender  \\\n",
       "1              1         Laraine  Medendorp       F   \n",
       "2              2             Eli    Bockman    Male   \n",
       "3              3           Arlin     Dearle    Male   \n",
       "4              4          Talbot        NaN    Male   \n",
       "5              5  Sheila-kathryn     Calton  Female   \n",
       "...          ...             ...        ...     ...   \n",
       "3996        3996         Rosalia   Halgarth  Female   \n",
       "3997        3997          Blanch     Nisuis  Female   \n",
       "3998        3998          Sarene    Woolley       U   \n",
       "3999        3999       Patrizius        NaN    Male   \n",
       "4000        4000           Kippy    Oldland    Male   \n",
       "\n",
       "0    past_3_years_bike_related_purchases                  DOB  \\\n",
       "1                                     93  1953-10-12 00:00:00   \n",
       "2                                     81  1980-12-16 00:00:00   \n",
       "3                                     61  1954-01-20 00:00:00   \n",
       "4                                     33  1961-10-03 00:00:00   \n",
       "5                                     56  1977-05-13 00:00:00   \n",
       "...                                  ...                  ...   \n",
       "3996                                   8  1975-08-09 00:00:00   \n",
       "3997                                  87  2001-07-13 00:00:00   \n",
       "3998                                  60                  NaN   \n",
       "3999                                  11  1973-10-24 00:00:00   \n",
       "4000                                  76  1991-11-05 00:00:00   \n",
       "\n",
       "0                  job_title job_industry_category     wealth_segment  \\\n",
       "1        Executive Secretary                Health      Mass Customer   \n",
       "2     Administrative Officer    Financial Services      Mass Customer   \n",
       "3         Recruiting Manager              Property      Mass Customer   \n",
       "4                        NaN                    IT      Mass Customer   \n",
       "5              Senior Editor                   NaN  Affluent Customer   \n",
       "...                      ...                   ...                ...   \n",
       "3996   VP Product Management                Health      Mass Customer   \n",
       "3997         Statistician II         Manufacturing     High Net Worth   \n",
       "3998       Assistant Manager                    IT     High Net Worth   \n",
       "3999                     NaN         Manufacturing  Affluent Customer   \n",
       "4000    Software Engineer IV                   NaN  Affluent Customer   \n",
       "\n",
       "0    deceased_indicator                                            default  \\\n",
       "1                     N                                                 \"'   \n",
       "2                     N                       <script>alert('hi')</script>   \n",
       "3                     N                                2018-02-01 00:00:00   \n",
       "4                     N  () { _; } >_[$($())] { touch /tmp/blns.shellsh...   \n",
       "5                     N                                                NIL   \n",
       "...                 ...                                                ...   \n",
       "3996                  N                                               -100   \n",
       "3997                  N                                           â¦testâ§   \n",
       "3998                  N                                                NaN   \n",
       "3999                  N                             Â¡â¢Â£Â¢âÂ§Â¶â¢ÂªÂºââ    \n",
       "4000                  N                                                0/0   \n",
       "\n",
       "0    owns_car tenure  \n",
       "1         Yes     11  \n",
       "2         Yes     16  \n",
       "3         Yes     15  \n",
       "4          No      7  \n",
       "5         Yes      8  \n",
       "...       ...    ...  \n",
       "3996       No     19  \n",
       "3997      Yes      1  \n",
       "3998       No    NaN  \n",
       "3999      Yes     10  \n",
       "4000       No     11  \n",
       "\n",
       "[4000 rows x 13 columns]"
      ]
     },
     "execution_count": 20,
     "metadata": {},
     "output_type": "execute_result"
    }
   ],
   "source": [
    "df3"
   ]
  },
  {
   "cell_type": "code",
   "execution_count": 21,
   "id": "edc28c2e",
   "metadata": {},
   "outputs": [
    {
     "data": {
      "text/plain": [
       "Index(['customer_id', 'first_name', 'last_name', 'gender',\n",
       "       'past_3_years_bike_related_purchases', 'DOB', 'job_title',\n",
       "       'job_industry_category', 'wealth_segment', 'deceased_indicator',\n",
       "       'default', 'owns_car', 'tenure'],\n",
       "      dtype='object', name=0)"
      ]
     },
     "execution_count": 21,
     "metadata": {},
     "output_type": "execute_result"
    }
   ],
   "source": [
    "df3.columns"
   ]
  },
  {
   "cell_type": "code",
   "execution_count": 22,
   "id": "a266781d",
   "metadata": {},
   "outputs": [
    {
     "data": {
      "text/html": [
       "<div>\n",
       "<style scoped>\n",
       "    .dataframe tbody tr th:only-of-type {\n",
       "        vertical-align: middle;\n",
       "    }\n",
       "\n",
       "    .dataframe tbody tr th {\n",
       "        vertical-align: top;\n",
       "    }\n",
       "\n",
       "    .dataframe thead th {\n",
       "        text-align: right;\n",
       "    }\n",
       "</style>\n",
       "<table border=\"1\" class=\"dataframe\">\n",
       "  <thead>\n",
       "    <tr style=\"text-align: right;\">\n",
       "      <th></th>\n",
       "      <th>customer_id</th>\n",
       "      <th>address</th>\n",
       "      <th>postcode</th>\n",
       "      <th>state</th>\n",
       "      <th>country</th>\n",
       "      <th>property_valuation</th>\n",
       "    </tr>\n",
       "  </thead>\n",
       "  <tbody>\n",
       "    <tr>\n",
       "      <th>1</th>\n",
       "      <td>1</td>\n",
       "      <td>060 Morning Avenue</td>\n",
       "      <td>2016</td>\n",
       "      <td>New South Wales</td>\n",
       "      <td>Australia</td>\n",
       "      <td>10</td>\n",
       "    </tr>\n",
       "    <tr>\n",
       "      <th>2</th>\n",
       "      <td>2</td>\n",
       "      <td>6 Meadow Vale Court</td>\n",
       "      <td>2153</td>\n",
       "      <td>New South Wales</td>\n",
       "      <td>Australia</td>\n",
       "      <td>10</td>\n",
       "    </tr>\n",
       "    <tr>\n",
       "      <th>3</th>\n",
       "      <td>4</td>\n",
       "      <td>0 Holy Cross Court</td>\n",
       "      <td>4211</td>\n",
       "      <td>QLD</td>\n",
       "      <td>Australia</td>\n",
       "      <td>9</td>\n",
       "    </tr>\n",
       "    <tr>\n",
       "      <th>4</th>\n",
       "      <td>5</td>\n",
       "      <td>17979 Del Mar Point</td>\n",
       "      <td>2448</td>\n",
       "      <td>New South Wales</td>\n",
       "      <td>Australia</td>\n",
       "      <td>4</td>\n",
       "    </tr>\n",
       "    <tr>\n",
       "      <th>5</th>\n",
       "      <td>6</td>\n",
       "      <td>9 Oakridge Court</td>\n",
       "      <td>3216</td>\n",
       "      <td>VIC</td>\n",
       "      <td>Australia</td>\n",
       "      <td>9</td>\n",
       "    </tr>\n",
       "  </tbody>\n",
       "</table>\n",
       "</div>"
      ],
      "text/plain": [
       "0 customer_id              address postcode            state    country  \\\n",
       "1           1   060 Morning Avenue     2016  New South Wales  Australia   \n",
       "2           2  6 Meadow Vale Court     2153  New South Wales  Australia   \n",
       "3           4   0 Holy Cross Court     4211              QLD  Australia   \n",
       "4           5  17979 Del Mar Point     2448  New South Wales  Australia   \n",
       "5           6     9 Oakridge Court     3216              VIC  Australia   \n",
       "\n",
       "0 property_valuation  \n",
       "1                 10  \n",
       "2                 10  \n",
       "3                  9  \n",
       "4                  4  \n",
       "5                  9  "
      ]
     },
     "execution_count": 22,
     "metadata": {},
     "output_type": "execute_result"
    }
   ],
   "source": [
    "df4.head()"
   ]
  },
  {
   "cell_type": "code",
   "execution_count": 23,
   "id": "098ea45e",
   "metadata": {},
   "outputs": [
    {
     "data": {
      "text/plain": [
       "Index(['customer_id', 'address', 'postcode', 'state', 'country',\n",
       "       'property_valuation'],\n",
       "      dtype='object', name=0)"
      ]
     },
     "execution_count": 23,
     "metadata": {},
     "output_type": "execute_result"
    }
   ],
   "source": [
    "df4.columns"
   ]
  },
  {
   "cell_type": "code",
   "execution_count": null,
   "id": "f06ad0bd",
   "metadata": {},
   "outputs": [],
   "source": []
  },
  {
   "cell_type": "code",
   "execution_count": 17,
   "id": "78ef5b1d",
   "metadata": {},
   "outputs": [],
   "source": [
    "df1[\"transaction_date\"] = pd.to_datetime(df1['transaction_date'])\n",
    "df1[\"list_price\"] = df1[\"list_price\"].astype(float)\n",
    "df1[\"standard_cost\"] = df1[\"standard_cost\"].astype(float)\n",
    "df1[\"product_first_sold_date\"] = pd.TimedeltaIndex(df1[\"product_first_sold_date\"], unit='d') + dt.datetime(1900,1,1)\n"
   ]
  },
  {
   "cell_type": "code",
   "execution_count": 55,
   "id": "47c46757",
   "metadata": {},
   "outputs": [
    {
     "data": {
      "text/plain": [
       "0\n",
       "transaction_id                     object\n",
       "product_id                         object\n",
       "customer_id                        object\n",
       "transaction_date           datetime64[ns]\n",
       "online_order                       object\n",
       "order_status                       object\n",
       "brand                              object\n",
       "product_line                       object\n",
       "product_class                      object\n",
       "product_size                       object\n",
       "list_price                        float64\n",
       "standard_cost                     float64\n",
       "product_first_sold_date    datetime64[ns]\n",
       "dtype: object"
      ]
     },
     "execution_count": 55,
     "metadata": {},
     "output_type": "execute_result"
    }
   ],
   "source": [
    "df1.dtypes"
   ]
  },
  {
   "cell_type": "code",
   "execution_count": 92,
   "id": "7adc5025",
   "metadata": {},
   "outputs": [],
   "source": [
    "\n"
   ]
  },
  {
   "cell_type": "code",
   "execution_count": 95,
   "id": "2dc9a486",
   "metadata": {},
   "outputs": [],
   "source": [
    "df2[\"DOB\"] = pd.to_datetime(df2['DOB'])\n",
    "df2[\"past_3_years_bike_related_purchases\"] = df2[\"past_3_years_bike_related_purchases\"].astype(float)\n",
    "df2[\"property_valuation\"] = df2[\"property_valuation\"].astype(float)\n",
    "df2[\"Rank\"] = df2[\"Rank\"].astype(float)\n",
    "df2[\"Value\"] = df2[\"Value\"].astype(float)\n",
    "now = pd.Timestamp('now')\n",
    "df2['DOB'] = pd.to_datetime(df2['DOB'], format='%m%d%y')    # 1\n",
    "df2['DOB'] = df2['DOB'].where(df2['DOB'] < now, df2['DOB'] -  np.timedelta64(100, 'Y'))   # 2\n",
    "df2['age'] = (now - df2['DOB']).astype('<m8[Y]')    # 3\n"
   ]
  },
  {
   "cell_type": "code",
   "execution_count": 97,
   "id": "79bc7eb4",
   "metadata": {},
   "outputs": [
    {
     "data": {
      "text/html": [
       "<div>\n",
       "<style scoped>\n",
       "    .dataframe tbody tr th:only-of-type {\n",
       "        vertical-align: middle;\n",
       "    }\n",
       "\n",
       "    .dataframe tbody tr th {\n",
       "        vertical-align: top;\n",
       "    }\n",
       "\n",
       "    .dataframe thead th {\n",
       "        text-align: right;\n",
       "    }\n",
       "</style>\n",
       "<table border=\"1\" class=\"dataframe\">\n",
       "  <thead>\n",
       "    <tr style=\"text-align: right;\">\n",
       "      <th></th>\n",
       "      <th>past_3_years_bike_related_purchases</th>\n",
       "      <th>property_valuation</th>\n",
       "      <th>Rank</th>\n",
       "      <th>Value</th>\n",
       "      <th>Age</th>\n",
       "      <th>age</th>\n",
       "    </tr>\n",
       "  </thead>\n",
       "  <tbody>\n",
       "    <tr>\n",
       "      <th>count</th>\n",
       "      <td>1000.000000</td>\n",
       "      <td>1000.000000</td>\n",
       "      <td>1000.000000</td>\n",
       "      <td>1000.000000</td>\n",
       "      <td>983</td>\n",
       "      <td>983.000000</td>\n",
       "    </tr>\n",
       "    <tr>\n",
       "      <th>mean</th>\n",
       "      <td>49.836000</td>\n",
       "      <td>7.397000</td>\n",
       "      <td>498.819000</td>\n",
       "      <td>0.881714</td>\n",
       "      <td>18773 days 05:40:15.675827712</td>\n",
       "      <td>50.887080</td>\n",
       "    </tr>\n",
       "    <tr>\n",
       "      <th>std</th>\n",
       "      <td>27.796686</td>\n",
       "      <td>2.758804</td>\n",
       "      <td>288.810997</td>\n",
       "      <td>0.293525</td>\n",
       "      <td>6233 days 06:04:53.059721408</td>\n",
       "      <td>17.085697</td>\n",
       "    </tr>\n",
       "    <tr>\n",
       "      <th>min</th>\n",
       "      <td>0.000000</td>\n",
       "      <td>1.000000</td>\n",
       "      <td>1.000000</td>\n",
       "      <td>0.340000</td>\n",
       "      <td>7502 days 19:45:30.630049</td>\n",
       "      <td>20.000000</td>\n",
       "    </tr>\n",
       "    <tr>\n",
       "      <th>25%</th>\n",
       "      <td>26.750000</td>\n",
       "      <td>6.000000</td>\n",
       "      <td>250.000000</td>\n",
       "      <td>0.649531</td>\n",
       "      <td>14398 days 07:45:30.630049024</td>\n",
       "      <td>39.000000</td>\n",
       "    </tr>\n",
       "    <tr>\n",
       "      <th>50%</th>\n",
       "      <td>51.000000</td>\n",
       "      <td>8.000000</td>\n",
       "      <td>500.000000</td>\n",
       "      <td>0.860000</td>\n",
       "      <td>18434 days 19:45:30.630049024</td>\n",
       "      <td>50.000000</td>\n",
       "    </tr>\n",
       "    <tr>\n",
       "      <th>75%</th>\n",
       "      <td>72.000000</td>\n",
       "      <td>9.000000</td>\n",
       "      <td>750.250000</td>\n",
       "      <td>1.075000</td>\n",
       "      <td>23714 days 19:45:30.630049024</td>\n",
       "      <td>64.000000</td>\n",
       "    </tr>\n",
       "    <tr>\n",
       "      <th>max</th>\n",
       "      <td>99.000000</td>\n",
       "      <td>12.000000</td>\n",
       "      <td>1000.000000</td>\n",
       "      <td>1.718750</td>\n",
       "      <td>30777 days 19:45:30.630049</td>\n",
       "      <td>84.000000</td>\n",
       "    </tr>\n",
       "  </tbody>\n",
       "</table>\n",
       "</div>"
      ],
      "text/plain": [
       "0      past_3_years_bike_related_purchases  property_valuation         Rank  \\\n",
       "count                          1000.000000         1000.000000  1000.000000   \n",
       "mean                             49.836000            7.397000   498.819000   \n",
       "std                              27.796686            2.758804   288.810997   \n",
       "min                               0.000000            1.000000     1.000000   \n",
       "25%                              26.750000            6.000000   250.000000   \n",
       "50%                              51.000000            8.000000   500.000000   \n",
       "75%                              72.000000            9.000000   750.250000   \n",
       "max                              99.000000           12.000000  1000.000000   \n",
       "\n",
       "0            Value                            Age         age  \n",
       "count  1000.000000                            983  983.000000  \n",
       "mean      0.881714  18773 days 05:40:15.675827712   50.887080  \n",
       "std       0.293525   6233 days 06:04:53.059721408   17.085697  \n",
       "min       0.340000      7502 days 19:45:30.630049   20.000000  \n",
       "25%       0.649531  14398 days 07:45:30.630049024   39.000000  \n",
       "50%       0.860000  18434 days 19:45:30.630049024   50.000000  \n",
       "75%       1.075000  23714 days 19:45:30.630049024   64.000000  \n",
       "max       1.718750     30777 days 19:45:30.630049   84.000000  "
      ]
     },
     "execution_count": 97,
     "metadata": {},
     "output_type": "execute_result"
    }
   ],
   "source": [
    "df2.describe()"
   ]
  },
  {
   "cell_type": "code",
   "execution_count": null,
   "id": "e8c1c871",
   "metadata": {},
   "outputs": [],
   "source": []
  },
  {
   "cell_type": "code",
   "execution_count": null,
   "id": "8a1a6521",
   "metadata": {},
   "outputs": [],
   "source": []
  },
  {
   "cell_type": "code",
   "execution_count": 19,
   "id": "59fde966",
   "metadata": {},
   "outputs": [],
   "source": [
    "df3[\"DOB\"] = pd.to_datetime(df3['DOB'])\n",
    "df3[\"past_3_years_bike_related_purchases\"] = df3[\"past_3_years_bike_related_purchases\"].astype(float)\n",
    "df3[\"tenure\"] = df3[\"tenure\"].astype(float)\n",
    "df3 = df3.drop(columns=[\"default\"])"
   ]
  },
  {
   "cell_type": "code",
   "execution_count": 20,
   "id": "606f9c0f",
   "metadata": {},
   "outputs": [],
   "source": [
    "df3[\"gender\"] = df3[\"gender\"].replace([\"F\",\"Femal\"],\"Female\")\n",
    "df3[\"gender\"] = df3[\"gender\"].replace([\"M\"],\"Male\")"
   ]
  },
  {
   "cell_type": "code",
   "execution_count": 28,
   "id": "58e838a0",
   "metadata": {},
   "outputs": [
    {
     "data": {
      "text/plain": [
       "0\n",
       "customer_id                                    object\n",
       "first_name                                     object\n",
       "last_name                                      object\n",
       "gender                                         object\n",
       "past_3_years_bike_related_purchases           float64\n",
       "DOB                                    datetime64[ns]\n",
       "job_title                                      object\n",
       "job_industry_category                          object\n",
       "wealth_segment                                 object\n",
       "deceased_indicator                             object\n",
       "owns_car                                       object\n",
       "tenure                                        float64\n",
       "dtype: object"
      ]
     },
     "execution_count": 28,
     "metadata": {},
     "output_type": "execute_result"
    }
   ],
   "source": [
    "df3.dtypes"
   ]
  },
  {
   "cell_type": "code",
   "execution_count": 79,
   "id": "1dfbc5bd",
   "metadata": {},
   "outputs": [],
   "source": [
    "df4[\"property_valuation\"] = df4[\"property_valuation\"].astype(float)\n",
    "df4[\"state\"] = df4[\"state\"].replace([\"VIC\"],\"Victoria\")\n",
    "df4[\"state\"] = df4[\"state\"].replace([\"NSW\"],\"New South Wales\")"
   ]
  },
  {
   "cell_type": "code",
   "execution_count": 76,
   "id": "c099baae",
   "metadata": {},
   "outputs": [
    {
     "data": {
      "text/html": [
       "<div>\n",
       "<style scoped>\n",
       "    .dataframe tbody tr th:only-of-type {\n",
       "        vertical-align: middle;\n",
       "    }\n",
       "\n",
       "    .dataframe tbody tr th {\n",
       "        vertical-align: top;\n",
       "    }\n",
       "\n",
       "    .dataframe thead th {\n",
       "        text-align: right;\n",
       "    }\n",
       "</style>\n",
       "<table border=\"1\" class=\"dataframe\">\n",
       "  <thead>\n",
       "    <tr style=\"text-align: right;\">\n",
       "      <th></th>\n",
       "      <th>customer_id</th>\n",
       "      <th>address</th>\n",
       "      <th>postcode</th>\n",
       "      <th>state</th>\n",
       "      <th>country</th>\n",
       "      <th>property_valuation</th>\n",
       "    </tr>\n",
       "  </thead>\n",
       "  <tbody>\n",
       "    <tr>\n",
       "      <th>1</th>\n",
       "      <td>1</td>\n",
       "      <td>060 Morning Avenue</td>\n",
       "      <td>2016</td>\n",
       "      <td>New South Wales</td>\n",
       "      <td>Australia</td>\n",
       "      <td>10.0</td>\n",
       "    </tr>\n",
       "    <tr>\n",
       "      <th>2</th>\n",
       "      <td>2</td>\n",
       "      <td>6 Meadow Vale Court</td>\n",
       "      <td>2153</td>\n",
       "      <td>New South Wales</td>\n",
       "      <td>Australia</td>\n",
       "      <td>10.0</td>\n",
       "    </tr>\n",
       "    <tr>\n",
       "      <th>3</th>\n",
       "      <td>4</td>\n",
       "      <td>0 Holy Cross Court</td>\n",
       "      <td>4211</td>\n",
       "      <td>QLD</td>\n",
       "      <td>Australia</td>\n",
       "      <td>9.0</td>\n",
       "    </tr>\n",
       "    <tr>\n",
       "      <th>4</th>\n",
       "      <td>5</td>\n",
       "      <td>17979 Del Mar Point</td>\n",
       "      <td>2448</td>\n",
       "      <td>New South Wales</td>\n",
       "      <td>Australia</td>\n",
       "      <td>4.0</td>\n",
       "    </tr>\n",
       "    <tr>\n",
       "      <th>5</th>\n",
       "      <td>6</td>\n",
       "      <td>9 Oakridge Court</td>\n",
       "      <td>3216</td>\n",
       "      <td>Victoria</td>\n",
       "      <td>Australia</td>\n",
       "      <td>9.0</td>\n",
       "    </tr>\n",
       "    <tr>\n",
       "      <th>...</th>\n",
       "      <td>...</td>\n",
       "      <td>...</td>\n",
       "      <td>...</td>\n",
       "      <td>...</td>\n",
       "      <td>...</td>\n",
       "      <td>...</td>\n",
       "    </tr>\n",
       "    <tr>\n",
       "      <th>3995</th>\n",
       "      <td>3999</td>\n",
       "      <td>1482 Hauk Trail</td>\n",
       "      <td>3064</td>\n",
       "      <td>Victoria</td>\n",
       "      <td>Australia</td>\n",
       "      <td>3.0</td>\n",
       "    </tr>\n",
       "    <tr>\n",
       "      <th>3996</th>\n",
       "      <td>4000</td>\n",
       "      <td>57042 Village Green Point</td>\n",
       "      <td>4511</td>\n",
       "      <td>QLD</td>\n",
       "      <td>Australia</td>\n",
       "      <td>6.0</td>\n",
       "    </tr>\n",
       "    <tr>\n",
       "      <th>3997</th>\n",
       "      <td>4001</td>\n",
       "      <td>87 Crescent Oaks Alley</td>\n",
       "      <td>2756</td>\n",
       "      <td>NSW</td>\n",
       "      <td>Australia</td>\n",
       "      <td>10.0</td>\n",
       "    </tr>\n",
       "    <tr>\n",
       "      <th>3998</th>\n",
       "      <td>4002</td>\n",
       "      <td>8194 Lien Street</td>\n",
       "      <td>4032</td>\n",
       "      <td>QLD</td>\n",
       "      <td>Australia</td>\n",
       "      <td>7.0</td>\n",
       "    </tr>\n",
       "    <tr>\n",
       "      <th>3999</th>\n",
       "      <td>4003</td>\n",
       "      <td>320 Acker Drive</td>\n",
       "      <td>2251</td>\n",
       "      <td>NSW</td>\n",
       "      <td>Australia</td>\n",
       "      <td>7.0</td>\n",
       "    </tr>\n",
       "  </tbody>\n",
       "</table>\n",
       "<p>3999 rows × 6 columns</p>\n",
       "</div>"
      ],
      "text/plain": [
       "0    customer_id                    address postcode            state  \\\n",
       "1              1         060 Morning Avenue     2016  New South Wales   \n",
       "2              2        6 Meadow Vale Court     2153  New South Wales   \n",
       "3              4         0 Holy Cross Court     4211              QLD   \n",
       "4              5        17979 Del Mar Point     2448  New South Wales   \n",
       "5              6           9 Oakridge Court     3216         Victoria   \n",
       "...          ...                        ...      ...              ...   \n",
       "3995        3999            1482 Hauk Trail     3064         Victoria   \n",
       "3996        4000  57042 Village Green Point     4511              QLD   \n",
       "3997        4001     87 Crescent Oaks Alley     2756              NSW   \n",
       "3998        4002           8194 Lien Street     4032              QLD   \n",
       "3999        4003            320 Acker Drive     2251              NSW   \n",
       "\n",
       "0       country  property_valuation  \n",
       "1     Australia                10.0  \n",
       "2     Australia                10.0  \n",
       "3     Australia                 9.0  \n",
       "4     Australia                 4.0  \n",
       "5     Australia                 9.0  \n",
       "...         ...                 ...  \n",
       "3995  Australia                 3.0  \n",
       "3996  Australia                 6.0  \n",
       "3997  Australia                10.0  \n",
       "3998  Australia                 7.0  \n",
       "3999  Australia                 7.0  \n",
       "\n",
       "[3999 rows x 6 columns]"
      ]
     },
     "execution_count": 76,
     "metadata": {},
     "output_type": "execute_result"
    }
   ],
   "source": [
    "df4"
   ]
  },
  {
   "cell_type": "code",
   "execution_count": 30,
   "id": "ce470d1c",
   "metadata": {},
   "outputs": [
    {
     "data": {
      "text/plain": [
       "0\n",
       "customer_id            object\n",
       "address                object\n",
       "postcode               object\n",
       "state                  object\n",
       "country                object\n",
       "property_valuation    float64\n",
       "dtype: object"
      ]
     },
     "execution_count": 30,
     "metadata": {},
     "output_type": "execute_result"
    }
   ],
   "source": [
    "df4.dtypes"
   ]
  },
  {
   "cell_type": "code",
   "execution_count": 31,
   "id": "77d0fb5a",
   "metadata": {},
   "outputs": [
    {
     "data": {
      "text/plain": [
       "0\n",
       "transaction_id               0\n",
       "product_id                   0\n",
       "customer_id                  0\n",
       "transaction_date             0\n",
       "online_order               360\n",
       "order_status                 0\n",
       "brand                      197\n",
       "product_line               197\n",
       "product_class              197\n",
       "product_size               197\n",
       "list_price                   0\n",
       "standard_cost              197\n",
       "product_first_sold_date    197\n",
       "dtype: int64"
      ]
     },
     "execution_count": 31,
     "metadata": {},
     "output_type": "execute_result"
    }
   ],
   "source": [
    "df1.isnull().sum() "
   ]
  },
  {
   "cell_type": "code",
   "execution_count": 32,
   "id": "447144ff",
   "metadata": {},
   "outputs": [
    {
     "data": {
      "text/plain": [
       "0\n",
       "transaction_id             0.000\n",
       "product_id                 0.000\n",
       "customer_id                0.000\n",
       "transaction_date           0.000\n",
       "online_order               1.800\n",
       "order_status               0.000\n",
       "brand                      0.985\n",
       "product_line               0.985\n",
       "product_class              0.985\n",
       "product_size               0.985\n",
       "list_price                 0.000\n",
       "standard_cost              0.985\n",
       "product_first_sold_date    0.985\n",
       "dtype: float64"
      ]
     },
     "execution_count": 32,
     "metadata": {},
     "output_type": "execute_result"
    }
   ],
   "source": [
    "((df1.isnull().sum()  / len(df1))*100)"
   ]
  },
  {
   "cell_type": "code",
   "execution_count": 33,
   "id": "a97d83d0",
   "metadata": {},
   "outputs": [],
   "source": [
    "df1= df1.dropna()"
   ]
  },
  {
   "cell_type": "code",
   "execution_count": 34,
   "id": "ae6d480e",
   "metadata": {},
   "outputs": [
    {
     "data": {
      "text/plain": [
       "0\n",
       "transaction_id             0\n",
       "product_id                 0\n",
       "customer_id                0\n",
       "transaction_date           0\n",
       "online_order               0\n",
       "order_status               0\n",
       "brand                      0\n",
       "product_line               0\n",
       "product_class              0\n",
       "product_size               0\n",
       "list_price                 0\n",
       "standard_cost              0\n",
       "product_first_sold_date    0\n",
       "dtype: int64"
      ]
     },
     "execution_count": 34,
     "metadata": {},
     "output_type": "execute_result"
    }
   ],
   "source": [
    "df1.isnull().sum() "
   ]
  },
  {
   "cell_type": "code",
   "execution_count": 35,
   "id": "49970376",
   "metadata": {},
   "outputs": [
    {
     "data": {
      "text/plain": [
       "0\n",
       "customer_id                              0\n",
       "first_name                               0\n",
       "last_name                              125\n",
       "gender                                   0\n",
       "past_3_years_bike_related_purchases      0\n",
       "DOB                                     87\n",
       "job_title                              506\n",
       "job_industry_category                  656\n",
       "wealth_segment                           0\n",
       "deceased_indicator                       0\n",
       "owns_car                                 0\n",
       "tenure                                  87\n",
       "dtype: int64"
      ]
     },
     "execution_count": 35,
     "metadata": {},
     "output_type": "execute_result"
    }
   ],
   "source": [
    "df3.isnull().sum()"
   ]
  },
  {
   "cell_type": "code",
   "execution_count": 36,
   "id": "b64b9244",
   "metadata": {},
   "outputs": [
    {
     "data": {
      "text/plain": [
       "0\n",
       "customer_id                             0.000\n",
       "first_name                              0.000\n",
       "last_name                               3.125\n",
       "gender                                  0.000\n",
       "past_3_years_bike_related_purchases     0.000\n",
       "DOB                                     2.175\n",
       "job_title                              12.650\n",
       "job_industry_category                  16.400\n",
       "wealth_segment                          0.000\n",
       "deceased_indicator                      0.000\n",
       "owns_car                                0.000\n",
       "tenure                                  2.175\n",
       "dtype: float64"
      ]
     },
     "execution_count": 36,
     "metadata": {},
     "output_type": "execute_result"
    }
   ],
   "source": [
    "((df3.isnull().sum()  / len(df3))*100)"
   ]
  },
  {
   "cell_type": "code",
   "execution_count": 22,
   "id": "e7bf6dcd",
   "metadata": {},
   "outputs": [],
   "source": [
    "df3=df3.dropna(subset=[\"tenure\"])"
   ]
  },
  {
   "cell_type": "code",
   "execution_count": 38,
   "id": "31208056",
   "metadata": {},
   "outputs": [
    {
     "data": {
      "text/plain": [
       "0\n",
       "customer_id           0\n",
       "address               0\n",
       "postcode              0\n",
       "state                 0\n",
       "country               0\n",
       "property_valuation    0\n",
       "dtype: int64"
      ]
     },
     "execution_count": 38,
     "metadata": {},
     "output_type": "execute_result"
    }
   ],
   "source": [
    "df4.isnull().sum()"
   ]
  },
  {
   "cell_type": "code",
   "execution_count": 39,
   "id": "0129e8c4",
   "metadata": {},
   "outputs": [
    {
     "data": {
      "text/plain": [
       "Index(['transaction_id', 'product_id', 'customer_id', 'transaction_date',\n",
       "       'online_order', 'order_status', 'brand', 'product_line',\n",
       "       'product_class', 'product_size', 'list_price', 'standard_cost',\n",
       "       'product_first_sold_date'],\n",
       "      dtype='object', name=0)"
      ]
     },
     "execution_count": 39,
     "metadata": {},
     "output_type": "execute_result"
    }
   ],
   "source": [
    "df1.columns"
   ]
  },
  {
   "cell_type": "code",
   "execution_count": 40,
   "id": "3bf0c2d5",
   "metadata": {},
   "outputs": [
    {
     "data": {
      "text/plain": [
       "Index(['customer_id', 'first_name', 'last_name', 'gender',\n",
       "       'past_3_years_bike_related_purchases', 'DOB', 'job_title',\n",
       "       'job_industry_category', 'wealth_segment', 'deceased_indicator',\n",
       "       'owns_car', 'tenure'],\n",
       "      dtype='object', name=0)"
      ]
     },
     "execution_count": 40,
     "metadata": {},
     "output_type": "execute_result"
    }
   ],
   "source": [
    "df3.columns"
   ]
  },
  {
   "cell_type": "code",
   "execution_count": 41,
   "id": "bdbd0b9f",
   "metadata": {},
   "outputs": [
    {
     "data": {
      "text/plain": [
       "Index(['customer_id', 'address', 'postcode', 'state', 'country',\n",
       "       'property_valuation'],\n",
       "      dtype='object', name=0)"
      ]
     },
     "execution_count": 41,
     "metadata": {},
     "output_type": "execute_result"
    }
   ],
   "source": [
    "df4.columns"
   ]
  },
  {
   "cell_type": "code",
   "execution_count": 80,
   "id": "9a6f7d47",
   "metadata": {},
   "outputs": [
    {
     "data": {
      "text/html": [
       "<div>\n",
       "<style scoped>\n",
       "    .dataframe tbody tr th:only-of-type {\n",
       "        vertical-align: middle;\n",
       "    }\n",
       "\n",
       "    .dataframe tbody tr th {\n",
       "        vertical-align: top;\n",
       "    }\n",
       "\n",
       "    .dataframe thead th {\n",
       "        text-align: right;\n",
       "    }\n",
       "</style>\n",
       "<table border=\"1\" class=\"dataframe\">\n",
       "  <thead>\n",
       "    <tr style=\"text-align: right;\">\n",
       "      <th></th>\n",
       "      <th>transaction_id</th>\n",
       "      <th>product_id</th>\n",
       "      <th>customer_id</th>\n",
       "      <th>transaction_date</th>\n",
       "      <th>online_order</th>\n",
       "      <th>order_status</th>\n",
       "      <th>brand</th>\n",
       "      <th>product_line</th>\n",
       "      <th>product_class</th>\n",
       "      <th>product_size</th>\n",
       "      <th>...</th>\n",
       "      <th>job_industry_category</th>\n",
       "      <th>wealth_segment</th>\n",
       "      <th>deceased_indicator</th>\n",
       "      <th>owns_car</th>\n",
       "      <th>tenure</th>\n",
       "      <th>address</th>\n",
       "      <th>postcode</th>\n",
       "      <th>state</th>\n",
       "      <th>country</th>\n",
       "      <th>property_valuation</th>\n",
       "    </tr>\n",
       "  </thead>\n",
       "  <tbody>\n",
       "    <tr>\n",
       "      <th>0</th>\n",
       "      <td>1</td>\n",
       "      <td>2</td>\n",
       "      <td>2950</td>\n",
       "      <td>2017-02-25</td>\n",
       "      <td>False</td>\n",
       "      <td>Approved</td>\n",
       "      <td>Solex</td>\n",
       "      <td>Standard</td>\n",
       "      <td>medium</td>\n",
       "      <td>medium</td>\n",
       "      <td>...</td>\n",
       "      <td>Financial Services</td>\n",
       "      <td>Mass Customer</td>\n",
       "      <td>N</td>\n",
       "      <td>Yes</td>\n",
       "      <td>10.0</td>\n",
       "      <td>984 Hoepker Court</td>\n",
       "      <td>3064</td>\n",
       "      <td>Victoria</td>\n",
       "      <td>Australia</td>\n",
       "      <td>6.0</td>\n",
       "    </tr>\n",
       "    <tr>\n",
       "      <th>1</th>\n",
       "      <td>11065</td>\n",
       "      <td>1</td>\n",
       "      <td>2950</td>\n",
       "      <td>2017-10-16</td>\n",
       "      <td>False</td>\n",
       "      <td>Approved</td>\n",
       "      <td>Giant Bicycles</td>\n",
       "      <td>Standard</td>\n",
       "      <td>medium</td>\n",
       "      <td>medium</td>\n",
       "      <td>...</td>\n",
       "      <td>Financial Services</td>\n",
       "      <td>Mass Customer</td>\n",
       "      <td>N</td>\n",
       "      <td>Yes</td>\n",
       "      <td>10.0</td>\n",
       "      <td>984 Hoepker Court</td>\n",
       "      <td>3064</td>\n",
       "      <td>Victoria</td>\n",
       "      <td>Australia</td>\n",
       "      <td>6.0</td>\n",
       "    </tr>\n",
       "    <tr>\n",
       "      <th>2</th>\n",
       "      <td>18923</td>\n",
       "      <td>62</td>\n",
       "      <td>2950</td>\n",
       "      <td>2017-04-26</td>\n",
       "      <td>False</td>\n",
       "      <td>Approved</td>\n",
       "      <td>Solex</td>\n",
       "      <td>Standard</td>\n",
       "      <td>medium</td>\n",
       "      <td>medium</td>\n",
       "      <td>...</td>\n",
       "      <td>Financial Services</td>\n",
       "      <td>Mass Customer</td>\n",
       "      <td>N</td>\n",
       "      <td>Yes</td>\n",
       "      <td>10.0</td>\n",
       "      <td>984 Hoepker Court</td>\n",
       "      <td>3064</td>\n",
       "      <td>Victoria</td>\n",
       "      <td>Australia</td>\n",
       "      <td>6.0</td>\n",
       "    </tr>\n",
       "    <tr>\n",
       "      <th>3</th>\n",
       "      <td>2</td>\n",
       "      <td>3</td>\n",
       "      <td>3120</td>\n",
       "      <td>2017-05-21</td>\n",
       "      <td>True</td>\n",
       "      <td>Approved</td>\n",
       "      <td>Trek Bicycles</td>\n",
       "      <td>Standard</td>\n",
       "      <td>medium</td>\n",
       "      <td>large</td>\n",
       "      <td>...</td>\n",
       "      <td>Health</td>\n",
       "      <td>Mass Customer</td>\n",
       "      <td>N</td>\n",
       "      <td>Yes</td>\n",
       "      <td>10.0</td>\n",
       "      <td>4 Shopko Circle</td>\n",
       "      <td>2196</td>\n",
       "      <td>New South Wales</td>\n",
       "      <td>Australia</td>\n",
       "      <td>5.0</td>\n",
       "    </tr>\n",
       "    <tr>\n",
       "      <th>4</th>\n",
       "      <td>6862</td>\n",
       "      <td>4</td>\n",
       "      <td>3120</td>\n",
       "      <td>2017-10-05</td>\n",
       "      <td>False</td>\n",
       "      <td>Approved</td>\n",
       "      <td>Giant Bicycles</td>\n",
       "      <td>Standard</td>\n",
       "      <td>high</td>\n",
       "      <td>medium</td>\n",
       "      <td>...</td>\n",
       "      <td>Health</td>\n",
       "      <td>Mass Customer</td>\n",
       "      <td>N</td>\n",
       "      <td>Yes</td>\n",
       "      <td>10.0</td>\n",
       "      <td>4 Shopko Circle</td>\n",
       "      <td>2196</td>\n",
       "      <td>New South Wales</td>\n",
       "      <td>Australia</td>\n",
       "      <td>5.0</td>\n",
       "    </tr>\n",
       "    <tr>\n",
       "      <th>...</th>\n",
       "      <td>...</td>\n",
       "      <td>...</td>\n",
       "      <td>...</td>\n",
       "      <td>...</td>\n",
       "      <td>...</td>\n",
       "      <td>...</td>\n",
       "      <td>...</td>\n",
       "      <td>...</td>\n",
       "      <td>...</td>\n",
       "      <td>...</td>\n",
       "      <td>...</td>\n",
       "      <td>...</td>\n",
       "      <td>...</td>\n",
       "      <td>...</td>\n",
       "      <td>...</td>\n",
       "      <td>...</td>\n",
       "      <td>...</td>\n",
       "      <td>...</td>\n",
       "      <td>...</td>\n",
       "      <td>...</td>\n",
       "      <td>...</td>\n",
       "    </tr>\n",
       "    <tr>\n",
       "      <th>19517</th>\n",
       "      <td>19854</td>\n",
       "      <td>68</td>\n",
       "      <td>130</td>\n",
       "      <td>2017-02-02</td>\n",
       "      <td>True</td>\n",
       "      <td>Approved</td>\n",
       "      <td>OHM Cycles</td>\n",
       "      <td>Standard</td>\n",
       "      <td>medium</td>\n",
       "      <td>medium</td>\n",
       "      <td>...</td>\n",
       "      <td>Manufacturing</td>\n",
       "      <td>Mass Customer</td>\n",
       "      <td>N</td>\n",
       "      <td>No</td>\n",
       "      <td>1.0</td>\n",
       "      <td>58 Helena Hill</td>\n",
       "      <td>2205</td>\n",
       "      <td>New South Wales</td>\n",
       "      <td>Australia</td>\n",
       "      <td>7.0</td>\n",
       "    </tr>\n",
       "    <tr>\n",
       "      <th>19518</th>\n",
       "      <td>17966</td>\n",
       "      <td>17</td>\n",
       "      <td>2789</td>\n",
       "      <td>2017-12-06</td>\n",
       "      <td>False</td>\n",
       "      <td>Approved</td>\n",
       "      <td>Solex</td>\n",
       "      <td>Standard</td>\n",
       "      <td>high</td>\n",
       "      <td>medium</td>\n",
       "      <td>...</td>\n",
       "      <td>Financial Services</td>\n",
       "      <td>Affluent Customer</td>\n",
       "      <td>N</td>\n",
       "      <td>Yes</td>\n",
       "      <td>7.0</td>\n",
       "      <td>724 West Park</td>\n",
       "      <td>2112</td>\n",
       "      <td>New South Wales</td>\n",
       "      <td>Australia</td>\n",
       "      <td>11.0</td>\n",
       "    </tr>\n",
       "    <tr>\n",
       "      <th>19519</th>\n",
       "      <td>18462</td>\n",
       "      <td>80</td>\n",
       "      <td>2789</td>\n",
       "      <td>2017-06-20</td>\n",
       "      <td>False</td>\n",
       "      <td>Approved</td>\n",
       "      <td>OHM Cycles</td>\n",
       "      <td>Touring</td>\n",
       "      <td>low</td>\n",
       "      <td>medium</td>\n",
       "      <td>...</td>\n",
       "      <td>Financial Services</td>\n",
       "      <td>Affluent Customer</td>\n",
       "      <td>N</td>\n",
       "      <td>Yes</td>\n",
       "      <td>7.0</td>\n",
       "      <td>724 West Park</td>\n",
       "      <td>2112</td>\n",
       "      <td>New South Wales</td>\n",
       "      <td>Australia</td>\n",
       "      <td>11.0</td>\n",
       "    </tr>\n",
       "    <tr>\n",
       "      <th>19520</th>\n",
       "      <td>17981</td>\n",
       "      <td>69</td>\n",
       "      <td>3446</td>\n",
       "      <td>2017-12-26</td>\n",
       "      <td>True</td>\n",
       "      <td>Approved</td>\n",
       "      <td>Giant Bicycles</td>\n",
       "      <td>Road</td>\n",
       "      <td>medium</td>\n",
       "      <td>medium</td>\n",
       "      <td>...</td>\n",
       "      <td>Manufacturing</td>\n",
       "      <td>Mass Customer</td>\n",
       "      <td>N</td>\n",
       "      <td>No</td>\n",
       "      <td>14.0</td>\n",
       "      <td>8 Becker Drive</td>\n",
       "      <td>4868</td>\n",
       "      <td>QLD</td>\n",
       "      <td>Australia</td>\n",
       "      <td>4.0</td>\n",
       "    </tr>\n",
       "    <tr>\n",
       "      <th>19521</th>\n",
       "      <td>18165</td>\n",
       "      <td>86</td>\n",
       "      <td>3446</td>\n",
       "      <td>2017-12-03</td>\n",
       "      <td>False</td>\n",
       "      <td>Approved</td>\n",
       "      <td>OHM Cycles</td>\n",
       "      <td>Standard</td>\n",
       "      <td>medium</td>\n",
       "      <td>medium</td>\n",
       "      <td>...</td>\n",
       "      <td>Manufacturing</td>\n",
       "      <td>Mass Customer</td>\n",
       "      <td>N</td>\n",
       "      <td>No</td>\n",
       "      <td>14.0</td>\n",
       "      <td>8 Becker Drive</td>\n",
       "      <td>4868</td>\n",
       "      <td>QLD</td>\n",
       "      <td>Australia</td>\n",
       "      <td>4.0</td>\n",
       "    </tr>\n",
       "  </tbody>\n",
       "</table>\n",
       "<p>19522 rows × 29 columns</p>\n",
       "</div>"
      ],
      "text/plain": [
       "0     transaction_id product_id customer_id transaction_date online_order  \\\n",
       "0                  1          2        2950       2017-02-25        False   \n",
       "1              11065          1        2950       2017-10-16        False   \n",
       "2              18923         62        2950       2017-04-26        False   \n",
       "3                  2          3        3120       2017-05-21         True   \n",
       "4               6862          4        3120       2017-10-05        False   \n",
       "...              ...        ...         ...              ...          ...   \n",
       "19517          19854         68         130       2017-02-02         True   \n",
       "19518          17966         17        2789       2017-12-06        False   \n",
       "19519          18462         80        2789       2017-06-20        False   \n",
       "19520          17981         69        3446       2017-12-26         True   \n",
       "19521          18165         86        3446       2017-12-03        False   \n",
       "\n",
       "0     order_status           brand product_line product_class product_size  \\\n",
       "0         Approved           Solex     Standard        medium       medium   \n",
       "1         Approved  Giant Bicycles     Standard        medium       medium   \n",
       "2         Approved           Solex     Standard        medium       medium   \n",
       "3         Approved   Trek Bicycles     Standard        medium        large   \n",
       "4         Approved  Giant Bicycles     Standard          high       medium   \n",
       "...            ...             ...          ...           ...          ...   \n",
       "19517     Approved      OHM Cycles     Standard        medium       medium   \n",
       "19518     Approved           Solex     Standard          high       medium   \n",
       "19519     Approved      OHM Cycles      Touring           low       medium   \n",
       "19520     Approved  Giant Bicycles         Road        medium       medium   \n",
       "19521     Approved      OHM Cycles     Standard        medium       medium   \n",
       "\n",
       "0      ...  job_industry_category     wealth_segment deceased_indicator  \\\n",
       "0      ...     Financial Services      Mass Customer                  N   \n",
       "1      ...     Financial Services      Mass Customer                  N   \n",
       "2      ...     Financial Services      Mass Customer                  N   \n",
       "3      ...                 Health      Mass Customer                  N   \n",
       "4      ...                 Health      Mass Customer                  N   \n",
       "...    ...                    ...                ...                ...   \n",
       "19517  ...          Manufacturing      Mass Customer                  N   \n",
       "19518  ...     Financial Services  Affluent Customer                  N   \n",
       "19519  ...     Financial Services  Affluent Customer                  N   \n",
       "19520  ...          Manufacturing      Mass Customer                  N   \n",
       "19521  ...          Manufacturing      Mass Customer                  N   \n",
       "\n",
       "0     owns_car tenure            address  postcode            state  \\\n",
       "0          Yes   10.0  984 Hoepker Court      3064         Victoria   \n",
       "1          Yes   10.0  984 Hoepker Court      3064         Victoria   \n",
       "2          Yes   10.0  984 Hoepker Court      3064         Victoria   \n",
       "3          Yes   10.0    4 Shopko Circle      2196  New South Wales   \n",
       "4          Yes   10.0    4 Shopko Circle      2196  New South Wales   \n",
       "...        ...    ...                ...       ...              ...   \n",
       "19517       No    1.0     58 Helena Hill      2205  New South Wales   \n",
       "19518      Yes    7.0      724 West Park      2112  New South Wales   \n",
       "19519      Yes    7.0      724 West Park      2112  New South Wales   \n",
       "19520       No   14.0     8 Becker Drive      4868              QLD   \n",
       "19521       No   14.0     8 Becker Drive      4868              QLD   \n",
       "\n",
       "0        country property_valuation  \n",
       "0      Australia                6.0  \n",
       "1      Australia                6.0  \n",
       "2      Australia                6.0  \n",
       "3      Australia                5.0  \n",
       "4      Australia                5.0  \n",
       "...          ...                ...  \n",
       "19517  Australia                7.0  \n",
       "19518  Australia               11.0  \n",
       "19519  Australia               11.0  \n",
       "19520  Australia                4.0  \n",
       "19521  Australia                4.0  \n",
       "\n",
       "[19522 rows x 29 columns]"
      ]
     },
     "execution_count": 80,
     "metadata": {},
     "output_type": "execute_result"
    }
   ],
   "source": [
    "df_final = df1.merge(df3.merge(df4,on=\"customer_id\"),on=\"customer_id\")\n",
    "df_final"
   ]
  },
  {
   "cell_type": "code",
   "execution_count": 78,
   "id": "ba9a3ec7",
   "metadata": {},
   "outputs": [
    {
     "data": {
      "text/plain": [
       "0\n",
       "transaction_id                                 object\n",
       "product_id                                     object\n",
       "customer_id                                    object\n",
       "transaction_date                       datetime64[ns]\n",
       "online_order                                   object\n",
       "order_status                                   object\n",
       "brand                                          object\n",
       "product_line                                   object\n",
       "product_class                                  object\n",
       "product_size                                   object\n",
       "list_price                                    float64\n",
       "standard_cost                                 float64\n",
       "product_first_sold_date                datetime64[ns]\n",
       "first_name                                     object\n",
       "last_name                                      object\n",
       "gender                                         object\n",
       "past_3_years_bike_related_purchases           float64\n",
       "DOB                                    datetime64[ns]\n",
       "job_title                                      object\n",
       "job_industry_category                          object\n",
       "wealth_segment                                 object\n",
       "deceased_indicator                             object\n",
       "owns_car                                       object\n",
       "tenure                                        float64\n",
       "address                                        object\n",
       "postcode                                       object\n",
       "state                                          object\n",
       "country                                        object\n",
       "property_valuation                            float64\n",
       "month                                           int64\n",
       "dtype: object"
      ]
     },
     "execution_count": 78,
     "metadata": {},
     "output_type": "execute_result"
    }
   ],
   "source": [
    "df_final.dtypes"
   ]
  },
  {
   "cell_type": "code",
   "execution_count": 24,
   "id": "b7731083",
   "metadata": {},
   "outputs": [
    {
     "data": {
      "text/html": [
       "<div>\n",
       "<style scoped>\n",
       "    .dataframe tbody tr th:only-of-type {\n",
       "        vertical-align: middle;\n",
       "    }\n",
       "\n",
       "    .dataframe tbody tr th {\n",
       "        vertical-align: top;\n",
       "    }\n",
       "\n",
       "    .dataframe thead th {\n",
       "        text-align: right;\n",
       "    }\n",
       "</style>\n",
       "<table border=\"1\" class=\"dataframe\">\n",
       "  <thead>\n",
       "    <tr style=\"text-align: right;\">\n",
       "      <th></th>\n",
       "      <th>list_price</th>\n",
       "      <th>standard_cost</th>\n",
       "      <th>past_3_years_bike_related_purchases</th>\n",
       "      <th>tenure</th>\n",
       "      <th>property_valuation</th>\n",
       "    </tr>\n",
       "  </thead>\n",
       "  <tbody>\n",
       "    <tr>\n",
       "      <th>count</th>\n",
       "      <td>19522.000000</td>\n",
       "      <td>19335.000000</td>\n",
       "      <td>19522.000000</td>\n",
       "      <td>19522.000000</td>\n",
       "      <td>19522.000000</td>\n",
       "    </tr>\n",
       "    <tr>\n",
       "      <th>mean</th>\n",
       "      <td>1106.439765</td>\n",
       "      <td>555.896088</td>\n",
       "      <td>48.914609</td>\n",
       "      <td>10.681949</td>\n",
       "      <td>7.516955</td>\n",
       "    </tr>\n",
       "    <tr>\n",
       "      <th>std</th>\n",
       "      <td>582.902349</td>\n",
       "      <td>405.814845</td>\n",
       "      <td>28.647762</td>\n",
       "      <td>5.674631</td>\n",
       "      <td>2.825880</td>\n",
       "    </tr>\n",
       "    <tr>\n",
       "      <th>min</th>\n",
       "      <td>12.010000</td>\n",
       "      <td>7.210000</td>\n",
       "      <td>0.000000</td>\n",
       "      <td>1.000000</td>\n",
       "      <td>1.000000</td>\n",
       "    </tr>\n",
       "    <tr>\n",
       "      <th>25%</th>\n",
       "      <td>575.270000</td>\n",
       "      <td>215.140000</td>\n",
       "      <td>24.000000</td>\n",
       "      <td>6.000000</td>\n",
       "      <td>6.000000</td>\n",
       "    </tr>\n",
       "    <tr>\n",
       "      <th>50%</th>\n",
       "      <td>1163.890000</td>\n",
       "      <td>507.580000</td>\n",
       "      <td>48.000000</td>\n",
       "      <td>11.000000</td>\n",
       "      <td>8.000000</td>\n",
       "    </tr>\n",
       "    <tr>\n",
       "      <th>75%</th>\n",
       "      <td>1635.300000</td>\n",
       "      <td>795.100000</td>\n",
       "      <td>73.000000</td>\n",
       "      <td>15.000000</td>\n",
       "      <td>10.000000</td>\n",
       "    </tr>\n",
       "    <tr>\n",
       "      <th>max</th>\n",
       "      <td>2091.470000</td>\n",
       "      <td>1759.850000</td>\n",
       "      <td>99.000000</td>\n",
       "      <td>22.000000</td>\n",
       "      <td>12.000000</td>\n",
       "    </tr>\n",
       "  </tbody>\n",
       "</table>\n",
       "</div>"
      ],
      "text/plain": [
       "0        list_price  standard_cost  past_3_years_bike_related_purchases  \\\n",
       "count  19522.000000   19335.000000                         19522.000000   \n",
       "mean    1106.439765     555.896088                            48.914609   \n",
       "std      582.902349     405.814845                            28.647762   \n",
       "min       12.010000       7.210000                             0.000000   \n",
       "25%      575.270000     215.140000                            24.000000   \n",
       "50%     1163.890000     507.580000                            48.000000   \n",
       "75%     1635.300000     795.100000                            73.000000   \n",
       "max     2091.470000    1759.850000                            99.000000   \n",
       "\n",
       "0            tenure  property_valuation  \n",
       "count  19522.000000        19522.000000  \n",
       "mean      10.681949            7.516955  \n",
       "std        5.674631            2.825880  \n",
       "min        1.000000            1.000000  \n",
       "25%        6.000000            6.000000  \n",
       "50%       11.000000            8.000000  \n",
       "75%       15.000000           10.000000  \n",
       "max       22.000000           12.000000  "
      ]
     },
     "execution_count": 24,
     "metadata": {},
     "output_type": "execute_result"
    }
   ],
   "source": [
    "df_final.describe()"
   ]
  },
  {
   "cell_type": "code",
   "execution_count": 68,
   "id": "f1465c2f",
   "metadata": {},
   "outputs": [
    {
     "data": {
      "text/html": [
       "<div>\n",
       "<style scoped>\n",
       "    .dataframe tbody tr th:only-of-type {\n",
       "        vertical-align: middle;\n",
       "    }\n",
       "\n",
       "    .dataframe tbody tr th {\n",
       "        vertical-align: top;\n",
       "    }\n",
       "\n",
       "    .dataframe thead th {\n",
       "        text-align: right;\n",
       "    }\n",
       "</style>\n",
       "<table border=\"1\" class=\"dataframe\">\n",
       "  <thead>\n",
       "    <tr style=\"text-align: right;\">\n",
       "      <th></th>\n",
       "      <th>list_price</th>\n",
       "      <th>standard_cost</th>\n",
       "      <th>past_3_years_bike_related_purchases</th>\n",
       "      <th>tenure</th>\n",
       "      <th>property_valuation</th>\n",
       "      <th>month</th>\n",
       "    </tr>\n",
       "    <tr>\n",
       "      <th>0</th>\n",
       "      <th></th>\n",
       "      <th></th>\n",
       "      <th></th>\n",
       "      <th></th>\n",
       "      <th></th>\n",
       "      <th></th>\n",
       "    </tr>\n",
       "  </thead>\n",
       "  <tbody>\n",
       "    <tr>\n",
       "      <th>list_price</th>\n",
       "      <td>1.000000</td>\n",
       "      <td>0.552801</td>\n",
       "      <td>0.007574</td>\n",
       "      <td>-0.006878</td>\n",
       "      <td>-0.011123</td>\n",
       "      <td>-0.007417</td>\n",
       "    </tr>\n",
       "    <tr>\n",
       "      <th>standard_cost</th>\n",
       "      <td>0.552801</td>\n",
       "      <td>1.000000</td>\n",
       "      <td>-0.009246</td>\n",
       "      <td>-0.014221</td>\n",
       "      <td>-0.002187</td>\n",
       "      <td>-0.015512</td>\n",
       "    </tr>\n",
       "    <tr>\n",
       "      <th>past_3_years_bike_related_purchases</th>\n",
       "      <td>0.007574</td>\n",
       "      <td>-0.009246</td>\n",
       "      <td>1.000000</td>\n",
       "      <td>-0.021718</td>\n",
       "      <td>0.011554</td>\n",
       "      <td>-0.002256</td>\n",
       "    </tr>\n",
       "    <tr>\n",
       "      <th>tenure</th>\n",
       "      <td>-0.006878</td>\n",
       "      <td>-0.014221</td>\n",
       "      <td>-0.021718</td>\n",
       "      <td>1.000000</td>\n",
       "      <td>-0.019086</td>\n",
       "      <td>0.000208</td>\n",
       "    </tr>\n",
       "    <tr>\n",
       "      <th>property_valuation</th>\n",
       "      <td>-0.011123</td>\n",
       "      <td>-0.002187</td>\n",
       "      <td>0.011554</td>\n",
       "      <td>-0.019086</td>\n",
       "      <td>1.000000</td>\n",
       "      <td>-0.006079</td>\n",
       "    </tr>\n",
       "    <tr>\n",
       "      <th>month</th>\n",
       "      <td>-0.007417</td>\n",
       "      <td>-0.015512</td>\n",
       "      <td>-0.002256</td>\n",
       "      <td>0.000208</td>\n",
       "      <td>-0.006079</td>\n",
       "      <td>1.000000</td>\n",
       "    </tr>\n",
       "  </tbody>\n",
       "</table>\n",
       "</div>"
      ],
      "text/plain": [
       "0                                    list_price  standard_cost  \\\n",
       "0                                                                \n",
       "list_price                             1.000000       0.552801   \n",
       "standard_cost                          0.552801       1.000000   \n",
       "past_3_years_bike_related_purchases    0.007574      -0.009246   \n",
       "tenure                                -0.006878      -0.014221   \n",
       "property_valuation                    -0.011123      -0.002187   \n",
       "month                                 -0.007417      -0.015512   \n",
       "\n",
       "0                                    past_3_years_bike_related_purchases  \\\n",
       "0                                                                          \n",
       "list_price                                                      0.007574   \n",
       "standard_cost                                                  -0.009246   \n",
       "past_3_years_bike_related_purchases                             1.000000   \n",
       "tenure                                                         -0.021718   \n",
       "property_valuation                                              0.011554   \n",
       "month                                                          -0.002256   \n",
       "\n",
       "0                                      tenure  property_valuation     month  \n",
       "0                                                                            \n",
       "list_price                          -0.006878           -0.011123 -0.007417  \n",
       "standard_cost                       -0.014221           -0.002187 -0.015512  \n",
       "past_3_years_bike_related_purchases -0.021718            0.011554 -0.002256  \n",
       "tenure                               1.000000           -0.019086  0.000208  \n",
       "property_valuation                  -0.019086            1.000000 -0.006079  \n",
       "month                                0.000208           -0.006079  1.000000  "
      ]
     },
     "execution_count": 68,
     "metadata": {},
     "output_type": "execute_result"
    }
   ],
   "source": [
    "df_final.corr()"
   ]
  },
  {
   "cell_type": "code",
   "execution_count": 45,
   "id": "78ec75b6",
   "metadata": {},
   "outputs": [
    {
     "data": {
      "text/plain": [
       "Index(['transaction_id', 'product_id', 'customer_id', 'transaction_date',\n",
       "       'online_order', 'order_status', 'brand', 'product_line',\n",
       "       'product_class', 'product_size', 'list_price', 'standard_cost',\n",
       "       'product_first_sold_date', 'first_name', 'last_name', 'gender',\n",
       "       'past_3_years_bike_related_purchases', 'DOB', 'job_title',\n",
       "       'job_industry_category', 'wealth_segment', 'deceased_indicator',\n",
       "       'owns_car', 'tenure', 'address', 'postcode', 'state', 'country',\n",
       "       'property_valuation'],\n",
       "      dtype='object', name=0)"
      ]
     },
     "execution_count": 45,
     "metadata": {},
     "output_type": "execute_result"
    }
   ],
   "source": [
    "df_final.columns"
   ]
  },
  {
   "cell_type": "code",
   "execution_count": 46,
   "id": "57a54cea",
   "metadata": {},
   "outputs": [
    {
     "data": {
      "text/plain": [
       "18986"
      ]
     },
     "execution_count": 46,
     "metadata": {},
     "output_type": "execute_result"
    }
   ],
   "source": [
    "df_final[\"transaction_id\"].nunique()"
   ]
  },
  {
   "cell_type": "code",
   "execution_count": 47,
   "id": "cbe31386",
   "metadata": {},
   "outputs": [
    {
     "data": {
      "text/plain": [
       "101"
      ]
     },
     "execution_count": 47,
     "metadata": {},
     "output_type": "execute_result"
    }
   ],
   "source": [
    "df_final[\"product_id\"].nunique()"
   ]
  },
  {
   "cell_type": "code",
   "execution_count": 48,
   "id": "0de2f8a1",
   "metadata": {},
   "outputs": [
    {
     "data": {
      "text/plain": [
       "3411"
      ]
     },
     "execution_count": 48,
     "metadata": {},
     "output_type": "execute_result"
    }
   ],
   "source": [
    "df_final[\"customer_id\"].nunique()"
   ]
  },
  {
   "cell_type": "code",
   "execution_count": 49,
   "id": "dc38e676",
   "metadata": {},
   "outputs": [
    {
     "data": {
      "text/plain": [
       "364"
      ]
     },
     "execution_count": 49,
     "metadata": {},
     "output_type": "execute_result"
    }
   ],
   "source": [
    "df_final[\"transaction_date\"].nunique()"
   ]
  },
  {
   "cell_type": "code",
   "execution_count": 50,
   "id": "59650064",
   "metadata": {},
   "outputs": [
    {
     "data": {
      "text/plain": [
       "751     2017-12-30\n",
       "18106   2017-12-30\n",
       "4752    2017-12-30\n",
       "6201    2017-12-30\n",
       "7939    2017-12-30\n",
       "           ...    \n",
       "7817    2017-01-01\n",
       "11080   2017-01-01\n",
       "1831    2017-01-01\n",
       "18557   2017-01-01\n",
       "15353   2017-01-01\n",
       "Name: transaction_date, Length: 18986, dtype: datetime64[ns]"
      ]
     },
     "execution_count": 50,
     "metadata": {},
     "output_type": "execute_result"
    }
   ],
   "source": [
    "df_final[\"transaction_date\"].sort_values(ascending=False)"
   ]
  },
  {
   "cell_type": "code",
   "execution_count": 51,
   "id": "a9670612",
   "metadata": {},
   "outputs": [
    {
     "data": {
      "text/plain": [
       "Int64Index([ 2, 10,  4,  5, 10, 10,  1,  1, 12, 10,\n",
       "            ...\n",
       "             6, 12, 12, 11,  2,  7,  2,  4,  6,  9],\n",
       "           dtype='int64', name='transaction_date', length=18986)"
      ]
     },
     "execution_count": 51,
     "metadata": {},
     "output_type": "execute_result"
    }
   ],
   "source": [
    "pd.DatetimeIndex(df_final[\"transaction_date\"]).month"
   ]
  },
  {
   "cell_type": "code",
   "execution_count": 66,
   "id": "5363c5bd",
   "metadata": {},
   "outputs": [
    {
     "data": {
      "text/html": [
       "<div>\n",
       "<style scoped>\n",
       "    .dataframe tbody tr th:only-of-type {\n",
       "        vertical-align: middle;\n",
       "    }\n",
       "\n",
       "    .dataframe tbody tr th {\n",
       "        vertical-align: top;\n",
       "    }\n",
       "\n",
       "    .dataframe thead th {\n",
       "        text-align: right;\n",
       "    }\n",
       "</style>\n",
       "<table border=\"1\" class=\"dataframe\">\n",
       "  <thead>\n",
       "    <tr style=\"text-align: right;\">\n",
       "      <th></th>\n",
       "      <th>list_price</th>\n",
       "      <th>standard_cost</th>\n",
       "      <th>past_3_years_bike_related_purchases</th>\n",
       "      <th>tenure</th>\n",
       "      <th>property_valuation</th>\n",
       "    </tr>\n",
       "    <tr>\n",
       "      <th>month</th>\n",
       "      <th></th>\n",
       "      <th></th>\n",
       "      <th></th>\n",
       "      <th></th>\n",
       "      <th></th>\n",
       "    </tr>\n",
       "  </thead>\n",
       "  <tbody>\n",
       "    <tr>\n",
       "      <th>1</th>\n",
       "      <td>1766594.28</td>\n",
       "      <td>877812.71</td>\n",
       "      <td>77300.0</td>\n",
       "      <td>17074.0</td>\n",
       "      <td>12025.0</td>\n",
       "    </tr>\n",
       "    <tr>\n",
       "      <th>2</th>\n",
       "      <td>1719544.76</td>\n",
       "      <td>881649.83</td>\n",
       "      <td>76331.0</td>\n",
       "      <td>16590.0</td>\n",
       "      <td>11587.0</td>\n",
       "    </tr>\n",
       "    <tr>\n",
       "      <th>3</th>\n",
       "      <td>1702556.00</td>\n",
       "      <td>863573.02</td>\n",
       "      <td>76515.0</td>\n",
       "      <td>16427.0</td>\n",
       "      <td>11791.0</td>\n",
       "    </tr>\n",
       "    <tr>\n",
       "      <th>4</th>\n",
       "      <td>1738278.44</td>\n",
       "      <td>875321.73</td>\n",
       "      <td>75354.0</td>\n",
       "      <td>16795.0</td>\n",
       "      <td>11861.0</td>\n",
       "    </tr>\n",
       "    <tr>\n",
       "      <th>5</th>\n",
       "      <td>1833692.29</td>\n",
       "      <td>944868.89</td>\n",
       "      <td>78465.0</td>\n",
       "      <td>17268.0</td>\n",
       "      <td>12057.0</td>\n",
       "    </tr>\n",
       "    <tr>\n",
       "      <th>6</th>\n",
       "      <td>1659286.99</td>\n",
       "      <td>842467.18</td>\n",
       "      <td>75281.0</td>\n",
       "      <td>15870.0</td>\n",
       "      <td>11211.0</td>\n",
       "    </tr>\n",
       "    <tr>\n",
       "      <th>7</th>\n",
       "      <td>1787217.95</td>\n",
       "      <td>894827.04</td>\n",
       "      <td>81672.0</td>\n",
       "      <td>17470.0</td>\n",
       "      <td>12295.0</td>\n",
       "    </tr>\n",
       "    <tr>\n",
       "      <th>8</th>\n",
       "      <td>1831324.20</td>\n",
       "      <td>910715.95</td>\n",
       "      <td>79130.0</td>\n",
       "      <td>17872.0</td>\n",
       "      <td>12606.0</td>\n",
       "    </tr>\n",
       "    <tr>\n",
       "      <th>9</th>\n",
       "      <td>1660492.65</td>\n",
       "      <td>834804.12</td>\n",
       "      <td>74406.0</td>\n",
       "      <td>15925.0</td>\n",
       "      <td>11316.0</td>\n",
       "    </tr>\n",
       "    <tr>\n",
       "      <th>10</th>\n",
       "      <td>1878029.12</td>\n",
       "      <td>924083.14</td>\n",
       "      <td>82045.0</td>\n",
       "      <td>17821.0</td>\n",
       "      <td>12696.0</td>\n",
       "    </tr>\n",
       "    <tr>\n",
       "      <th>11</th>\n",
       "      <td>1718851.98</td>\n",
       "      <td>837079.14</td>\n",
       "      <td>77577.0</td>\n",
       "      <td>17011.0</td>\n",
       "      <td>11582.0</td>\n",
       "    </tr>\n",
       "    <tr>\n",
       "      <th>12</th>\n",
       "      <td>1700009.79</td>\n",
       "      <td>859846.37</td>\n",
       "      <td>74828.0</td>\n",
       "      <td>16633.0</td>\n",
       "      <td>11735.0</td>\n",
       "    </tr>\n",
       "  </tbody>\n",
       "</table>\n",
       "</div>"
      ],
      "text/plain": [
       "0      list_price  standard_cost  past_3_years_bike_related_purchases  \\\n",
       "month                                                                   \n",
       "1      1766594.28      877812.71                              77300.0   \n",
       "2      1719544.76      881649.83                              76331.0   \n",
       "3      1702556.00      863573.02                              76515.0   \n",
       "4      1738278.44      875321.73                              75354.0   \n",
       "5      1833692.29      944868.89                              78465.0   \n",
       "6      1659286.99      842467.18                              75281.0   \n",
       "7      1787217.95      894827.04                              81672.0   \n",
       "8      1831324.20      910715.95                              79130.0   \n",
       "9      1660492.65      834804.12                              74406.0   \n",
       "10     1878029.12      924083.14                              82045.0   \n",
       "11     1718851.98      837079.14                              77577.0   \n",
       "12     1700009.79      859846.37                              74828.0   \n",
       "\n",
       "0       tenure  property_valuation  \n",
       "month                               \n",
       "1      17074.0             12025.0  \n",
       "2      16590.0             11587.0  \n",
       "3      16427.0             11791.0  \n",
       "4      16795.0             11861.0  \n",
       "5      17268.0             12057.0  \n",
       "6      15870.0             11211.0  \n",
       "7      17470.0             12295.0  \n",
       "8      17872.0             12606.0  \n",
       "9      15925.0             11316.0  \n",
       "10     17821.0             12696.0  \n",
       "11     17011.0             11582.0  \n",
       "12     16633.0             11735.0  "
      ]
     },
     "execution_count": 66,
     "metadata": {},
     "output_type": "execute_result"
    }
   ],
   "source": [
    "df_final[\"month\"] = pd.DatetimeIndex(df_final[\"transaction_date\"]).month\n",
    "df = df_final.groupby(df_final[\"month\"]).sum()\n",
    "#df[\"month\"]=pd.DatetimeIndex(df[\"transaction_date\"]).month\n",
    "#df= df.set_index(\"month\")\n",
    "df"
   ]
  },
  {
   "cell_type": "code",
   "execution_count": 67,
   "id": "bca2227e",
   "metadata": {},
   "outputs": [
    {
     "data": {
      "text/plain": [
       "Text(0.5, 1.0, 'Transaction x Month')"
      ]
     },
     "execution_count": 67,
     "metadata": {},
     "output_type": "execute_result"
    },
    {
     "data": {
      "image/png": "[encoded data removed]",
      "text/plain": [
       "<Figure size 1152x288 with 2 Axes>"
      ]
     },
     "metadata": {
      "needs_background": "light"
     },
     "output_type": "display_data"
    }
   ],
   "source": [
    "fig, (ax1,ax2) = plt.subplots(ncols=2,figsize=(16,4))\n",
    "\n",
    "ax1.hist(pd.DatetimeIndex(df_final[\"transaction_date\"]).month,bins=12,histtype='bar', ec='black')\n",
    "ax2.plot(df[\"list_price\"])\n",
    "ax1.set_title(\"Transaction x Month\")"
   ]
  },
  {
   "cell_type": "code",
   "execution_count": 112,
   "id": "cbbeb50a",
   "metadata": {},
   "outputs": [
    {
     "data": {
      "text/plain": [
       "Text(0.5, 1.0, 'Customer Gender')"
      ]
     },
     "execution_count": 112,
     "metadata": {},
     "output_type": "execute_result"
    },
    {
     "data": {
      "image/png": "[encoded data removed]",
      "text/plain": [
       "<Figure size 1152x288 with 2 Axes>"
      ]
     },
     "metadata": {
      "needs_background": "light"
     },
     "output_type": "display_data"
    }
   ],
   "source": [
    "\n",
    "fig, (ax1,ax2) = plt.subplots(ncols=2,figsize=(16,4))\n",
    "\n",
    "ax1.hist(df_final[\"order_status\"],bins=2,histtype=\"bar\",ec=\"black\")\n",
    "ax2.hist(df_final[\"gender\"],bins=3,ec=\"black\",color=\"red\")\n",
    "ax1.set_title(\"Order Status\")\n",
    "ax2.set_title(\"Customer Gender\")"
   ]
  },
  {
   "cell_type": "code",
   "execution_count": 26,
   "id": "15537ecd",
   "metadata": {},
   "outputs": [
    {
     "data": {
      "text/plain": [
       "Text(0.5, 1.0, 'Sales x Brand')"
      ]
     },
     "execution_count": 26,
     "metadata": {},
     "output_type": "execute_result"
    },
    {
     "data": {
      "image/png": "[encoded data removed]",
      "text/plain": [
       "<Figure size 1152x288 with 2 Axes>"
      ]
     },
     "metadata": {
      "needs_background": "light"
     },
     "output_type": "display_data"
    }
   ],
   "source": [
    "fig, (ax1,ax2) = plt.subplots(ncols=2,figsize=(16,4))\n",
    "ax1.plot(df_final.groupby(df_final[\"brand\"]).count()[\"transaction_id\"])\n",
    "ax2.plot(df_final.groupby(df_final[\"brand\"]).sum()[\"list_price\"],color=\"black\")\n",
    "ax1.set_title(\"Transaction x Brand\")\n",
    "ax2.set_title(\"Sales x Brand\")\n",
    "\n"
   ]
  },
  {
   "cell_type": "code",
   "execution_count": 49,
   "id": "d159707f",
   "metadata": {},
   "outputs": [
    {
     "data": {
      "text/plain": [
       "job_title\n",
       "Account Coordinator           5468.0\n",
       "Account Executive             8894.0\n",
       "Account Representative I      1609.0\n",
       "Account Representative II      509.0\n",
       "Account Representative III    1584.0\n",
       "                               ...  \n",
       "Web Designer IV               2065.0\n",
       "Web Developer I               1558.0\n",
       "Web Developer II              1758.0\n",
       "Web Developer III             1541.0\n",
       "Web Developer IV              1635.0\n",
       "Name: past_3_years_bike_related_purchases, Length: 195, dtype: float64"
      ]
     },
     "execution_count": 49,
     "metadata": {},
     "output_type": "execute_result"
    }
   ],
   "source": [
    "df_final.groupby(df_final['job_title']).sum()[\"past_3_years_bike_related_purchases\"]"
   ]
  },
  {
   "cell_type": "code",
   "execution_count": 51,
   "id": "2c57fa89",
   "metadata": {},
   "outputs": [
    {
     "data": {
      "text/plain": [
       "[<matplotlib.lines.Line2D at 0x116771f1700>]"
      ]
     },
     "execution_count": 51,
     "metadata": {},
     "output_type": "execute_result"
    },
    {
     "data": {
      "image/png": "[encoded data removed]",
      "text/plain": [
       "<Figure size 1008x288 with 1 Axes>"
      ]
     },
     "metadata": {
      "needs_background": "light"
     },
     "output_type": "display_data"
    }
   ],
   "source": [
    "fig,(ax1) = plt.subplots(figsize=(14,4))\n",
    "\n",
    "ax1.plot(df_final.groupby(df_final['job_industry_category']).sum()[\"past_3_years_bike_related_purchases\"])\n",
    "\n"
   ]
  },
  {
   "cell_type": "code",
   "execution_count": 53,
   "id": "b8b4e09a",
   "metadata": {},
   "outputs": [
    {
     "data": {
      "text/plain": [
       "<AxesSubplot:>"
      ]
     },
     "execution_count": 53,
     "metadata": {},
     "output_type": "execute_result"
    },
    {
     "data": {
      "image/png": "[encoded data removed]",
      "text/plain": [
       "<Figure size 432x288 with 1 Axes>"
      ]
     },
     "metadata": {
      "needs_background": "light"
     },
     "output_type": "display_data"
    }
   ],
   "source": [
    "df_final[\"owns_car\"].hist()"
   ]
  },
  {
   "cell_type": "code",
   "execution_count": 54,
   "id": "178078a6",
   "metadata": {},
   "outputs": [
    {
     "data": {
      "text/plain": [
       "(array([9786., 9736.]),\n",
       " array([0. , 0.5, 1. ]),\n",
       " <BarContainer object of 2 artists>)"
      ]
     },
     "execution_count": 54,
     "metadata": {},
     "output_type": "execute_result"
    },
    {
     "data": {
      "image/png": "[encoded data removed]",
      "text/plain": [
       "<Figure size 1152x288 with 2 Axes>"
      ]
     },
     "metadata": {
      "needs_background": "light"
     },
     "output_type": "display_data"
    }
   ],
   "source": [
    "fig, (ax1,ax2) = plt.subplots(ncols=2,figsize=(16,4))\n",
    "\n",
    "ax1.hist(df_final[\"owns_car\"],bins=2,histtype=\"bar\",ec=\"black\")"
   ]
  },
  {
   "cell_type": "code",
   "execution_count": 66,
   "id": "ccdb8804",
   "metadata": {},
   "outputs": [
    {
     "data": {
      "text/plain": [
       "[<matplotlib.lines.Line2D at 0x1167acaf490>]"
      ]
     },
     "execution_count": 66,
     "metadata": {},
     "output_type": "execute_result"
    },
    {
     "data": {
      "image/png": "[encoded data removed]",
      "text/plain": [
       "<Figure size 1152x288 with 1 Axes>"
      ]
     },
     "metadata": {
      "needs_background": "light"
     },
     "output_type": "display_data"
    }
   ],
   "source": [
    "df_final.groupby(df_final[\"owns_car\"]).sum()[\"past_3_years_bike_related_purchases\"]\n",
    "\n",
    "fig, (ax1) = plt.subplots(figsize=(16,4))\n",
    "ax1.set_title(\"Cars Owner Buys\")\n",
    "ax1.plot(df_final.groupby(df_final[\"owns_car\"]).sum()[\"past_3_years_bike_related_purchases\"].index,df_final.groupby(df_final[\"owns_car\"]).sum()[\"past_3_years_bike_related_purchases\"])"
   ]
  },
  {
   "cell_type": "code",
   "execution_count": 82,
   "id": "7ce2ce10",
   "metadata": {},
   "outputs": [
    {
     "data": {
      "text/plain": [
       "<AxesSubplot:>"
      ]
     },
     "execution_count": 82,
     "metadata": {},
     "output_type": "execute_result"
    },
    {
     "data": {
      "image/png": "[encoded data removed]",
      "text/plain": [
       "<Figure size 432x288 with 1 Axes>"
      ]
     },
     "metadata": {
      "needs_background": "light"
     },
     "output_type": "display_data"
    }
   ],
   "source": [
    "df_final[\"state\"].hist()"
   ]
  },
  {
   "cell_type": "code",
   "execution_count": 83,
   "id": "05e319b4",
   "metadata": {},
   "outputs": [
    {
     "data": {
      "text/plain": [
       "0       1955-01-11\n",
       "1       1955-01-11\n",
       "2       1955-01-11\n",
       "3       1979-02-04\n",
       "4       1979-02-04\n",
       "           ...    \n",
       "19517   1997-07-18\n",
       "19518   1992-11-30\n",
       "19519   1992-11-30\n",
       "19520   1967-01-30\n",
       "19521   1967-01-30\n",
       "Name: DOB, Length: 19522, dtype: datetime64[ns]"
      ]
     },
     "execution_count": 83,
     "metadata": {},
     "output_type": "execute_result"
    }
   ],
   "source": [
    "df_final[\"DOB\"]"
   ]
  },
  {
   "cell_type": "code",
   "execution_count": 69,
   "id": "54766916",
   "metadata": {},
   "outputs": [
    {
     "data": {
      "text/html": [
       "<div>\n",
       "<style scoped>\n",
       "    .dataframe tbody tr th:only-of-type {\n",
       "        vertical-align: middle;\n",
       "    }\n",
       "\n",
       "    .dataframe tbody tr th {\n",
       "        vertical-align: top;\n",
       "    }\n",
       "\n",
       "    .dataframe thead th {\n",
       "        text-align: right;\n",
       "    }\n",
       "</style>\n",
       "<table border=\"1\" class=\"dataframe\">\n",
       "  <thead>\n",
       "    <tr style=\"text-align: right;\">\n",
       "      <th></th>\n",
       "      <th>transaction_id</th>\n",
       "      <th>product_id</th>\n",
       "      <th>customer_id</th>\n",
       "      <th>transaction_date</th>\n",
       "      <th>online_order</th>\n",
       "      <th>order_status</th>\n",
       "      <th>brand</th>\n",
       "      <th>product_line</th>\n",
       "      <th>product_class</th>\n",
       "      <th>product_size</th>\n",
       "      <th>...</th>\n",
       "      <th>job_title</th>\n",
       "      <th>job_industry_category</th>\n",
       "      <th>wealth_segment</th>\n",
       "      <th>owns_car</th>\n",
       "      <th>tenure</th>\n",
       "      <th>address</th>\n",
       "      <th>postcode</th>\n",
       "      <th>state</th>\n",
       "      <th>country</th>\n",
       "      <th>property_valuation</th>\n",
       "    </tr>\n",
       "    <tr>\n",
       "      <th>deceased_indicator</th>\n",
       "      <th></th>\n",
       "      <th></th>\n",
       "      <th></th>\n",
       "      <th></th>\n",
       "      <th></th>\n",
       "      <th></th>\n",
       "      <th></th>\n",
       "      <th></th>\n",
       "      <th></th>\n",
       "      <th></th>\n",
       "      <th></th>\n",
       "      <th></th>\n",
       "      <th></th>\n",
       "      <th></th>\n",
       "      <th></th>\n",
       "      <th></th>\n",
       "      <th></th>\n",
       "      <th></th>\n",
       "      <th></th>\n",
       "      <th></th>\n",
       "      <th></th>\n",
       "    </tr>\n",
       "  </thead>\n",
       "  <tbody>\n",
       "    <tr>\n",
       "      <th>N</th>\n",
       "      <td>19514</td>\n",
       "      <td>19514</td>\n",
       "      <td>19514</td>\n",
       "      <td>19514</td>\n",
       "      <td>19163</td>\n",
       "      <td>19514</td>\n",
       "      <td>19327</td>\n",
       "      <td>19327</td>\n",
       "      <td>19327</td>\n",
       "      <td>19327</td>\n",
       "      <td>...</td>\n",
       "      <td>17174</td>\n",
       "      <td>16292</td>\n",
       "      <td>19514</td>\n",
       "      <td>19514</td>\n",
       "      <td>19514</td>\n",
       "      <td>19514</td>\n",
       "      <td>19514</td>\n",
       "      <td>19514</td>\n",
       "      <td>19514</td>\n",
       "      <td>19514</td>\n",
       "    </tr>\n",
       "    <tr>\n",
       "      <th>Y</th>\n",
       "      <td>8</td>\n",
       "      <td>8</td>\n",
       "      <td>8</td>\n",
       "      <td>8</td>\n",
       "      <td>8</td>\n",
       "      <td>8</td>\n",
       "      <td>8</td>\n",
       "      <td>8</td>\n",
       "      <td>8</td>\n",
       "      <td>8</td>\n",
       "      <td>...</td>\n",
       "      <td>8</td>\n",
       "      <td>8</td>\n",
       "      <td>8</td>\n",
       "      <td>8</td>\n",
       "      <td>8</td>\n",
       "      <td>8</td>\n",
       "      <td>8</td>\n",
       "      <td>8</td>\n",
       "      <td>8</td>\n",
       "      <td>8</td>\n",
       "    </tr>\n",
       "  </tbody>\n",
       "</table>\n",
       "<p>2 rows × 28 columns</p>\n",
       "</div>"
      ],
      "text/plain": [
       "0                   transaction_id  product_id  customer_id  transaction_date  \\\n",
       "deceased_indicator                                                              \n",
       "N                            19514       19514        19514             19514   \n",
       "Y                                8           8            8                 8   \n",
       "\n",
       "0                   online_order  order_status  brand  product_line  \\\n",
       "deceased_indicator                                                    \n",
       "N                          19163         19514  19327         19327   \n",
       "Y                              8             8      8             8   \n",
       "\n",
       "0                   product_class  product_size  ...  job_title  \\\n",
       "deceased_indicator                               ...              \n",
       "N                           19327         19327  ...      17174   \n",
       "Y                               8             8  ...          8   \n",
       "\n",
       "0                   job_industry_category  wealth_segment  owns_car  tenure  \\\n",
       "deceased_indicator                                                            \n",
       "N                                   16292           19514     19514   19514   \n",
       "Y                                       8               8         8       8   \n",
       "\n",
       "0                   address  postcode  state  country  property_valuation  \n",
       "deceased_indicator                                                         \n",
       "N                     19514     19514  19514    19514               19514  \n",
       "Y                         8         8      8        8                   8  \n",
       "\n",
       "[2 rows x 28 columns]"
      ]
     },
     "execution_count": 69,
     "metadata": {},
     "output_type": "execute_result"
    }
   ],
   "source": [
    "df_final.groupby(df_final['deceased_indicator']).count()"
   ]
  }
 ],
 "metadata": {
  "kernelspec": {
   "display_name": "Python 3",
   "language": "python",
   "name": "python3"
  },
  "language_info": {
   "codemirror_mode": {
    "name": "ipython",
    "version": 3
   },
   "file_extension": ".py",
   "mimetype": "text/x-python",
   "name": "python",
   "nbconvert_exporter": "python",
   "pygments_lexer": "ipython3",
   "version": "3.8.3"
  }
 },
 "nbformat": 4,
 "nbformat_minor": 5
}
